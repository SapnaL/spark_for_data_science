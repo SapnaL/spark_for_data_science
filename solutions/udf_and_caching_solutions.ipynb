{
 "cells": [
  {
   "cell_type": "markdown",
   "metadata": {},
   "source": [
    "# UDF and Caching Lab\n",
    "\n",
    "In this lab, we will be working with data about all international soccer games ever played. \n",
    "\n",
    "First run the following imports for later use, then read in the data "
   ]
  },
  {
   "cell_type": "code",
   "execution_count": 1,
   "metadata": {},
   "outputs": [
    {
     "name": "stdout",
     "output_type": "stream",
     "text": [
      "Starting Spark application\n"
     ]
    },
    {
     "data": {
      "text/html": [
       "<table>\n",
       "<tr><th>ID</th><th>YARN Application ID</th><th>Kind</th><th>State</th><th>Spark UI</th><th>Driver log</th><th>Current session?</th></tr><tr><td>21</td><td>application_1566055793802_0019</td><td>pyspark</td><td>idle</td><td><a target=\"_blank\" href=\"http://spark-training-primary.umbctraining.com:8088/proxy/application_1566055793802_0019/\">Link</a></td><td><a target=\"_blank\" href=\"http://spark-training-primary.umbctraining.com:8042/node/containerlogs/container_e04_1566055793802_0019_01_000001/livy\">Link</a></td><td>✔</td></tr></table>"
      ],
      "text/plain": [
       "<IPython.core.display.HTML object>"
      ]
     },
     "metadata": {},
     "output_type": "display_data"
    },
    {
     "data": {
      "application/vnd.jupyter.widget-view+json": {
       "model_id": "",
       "version_major": 2,
       "version_minor": 0
      },
      "text/plain": [
       "FloatProgress(value=0.0, bar_style='info', description='Progress:', layout=Layout(height='25px', width='50%'),…"
      ]
     },
     "metadata": {},
     "output_type": "display_data"
    },
    {
     "name": "stdout",
     "output_type": "stream",
     "text": [
      "SparkSession available as 'spark'.\n"
     ]
    },
    {
     "data": {
      "application/vnd.jupyter.widget-view+json": {
       "model_id": "",
       "version_major": 2,
       "version_minor": 0
      },
      "text/plain": [
       "FloatProgress(value=0.0, bar_style='info', description='Progress:', layout=Layout(height='25px', width='50%'),…"
      ]
     },
     "metadata": {},
     "output_type": "display_data"
    }
   ],
   "source": [
    "from pyspark.sql.functions import pandas_udf, PandasUDFType"
   ]
  },
  {
   "cell_type": "code",
   "execution_count": 2,
   "metadata": {},
   "outputs": [
    {
     "data": {
      "application/vnd.jupyter.widget-view+json": {
       "model_id": "",
       "version_major": 2,
       "version_minor": 0
      },
      "text/plain": [
       "FloatProgress(value=0.0, bar_style='info', description='Progress:', layout=Layout(height='25px', width='50%'),…"
      ]
     },
     "metadata": {},
     "output_type": "display_data"
    }
   ],
   "source": [
    "from pyspark.sql.types import StructType, StructField, StringType, DateType, IntegerType, BooleanType"
   ]
  },
  {
   "cell_type": "code",
   "execution_count": 3,
   "metadata": {},
   "outputs": [
    {
     "data": {
      "application/vnd.jupyter.widget-view+json": {
       "model_id": "",
       "version_major": 2,
       "version_minor": 0
      },
      "text/plain": [
       "FloatProgress(value=0.0, bar_style='info', description='Progress:', layout=Layout(height='25px', width='50%'),…"
      ]
     },
     "metadata": {},
     "output_type": "display_data"
    }
   ],
   "source": [
    "games = spark.read.csv(\"hdfs:///data/soccer_games.csv\",header=True, inferSchema=True)\n",
    "games = games.repartition(100)"
   ]
  },
  {
   "cell_type": "markdown",
   "metadata": {},
   "source": [
    "Vieiw the data using `show`"
   ]
  },
  {
   "cell_type": "markdown",
   "metadata": {},
   "source": [
    "### Expand some acronyms in the Tournament column using UDFs\n",
    "\n",
    "We have provided this dictionary to perform look up in below"
   ]
  },
  {
   "cell_type": "code",
   "execution_count": 4,
   "metadata": {},
   "outputs": [
    {
     "data": {
      "application/vnd.jupyter.widget-view+json": {
       "model_id": "",
       "version_major": 2,
       "version_minor": 0
      },
      "text/plain": [
       "FloatProgress(value=0.0, bar_style='info', description='Progress:', layout=Layout(height='25px', width='50%'),…"
      ]
     },
     "metadata": {},
     "output_type": "display_data"
    }
   ],
   "source": [
    "acronyms = {'UEFA': \"Union of European Football Associations\",\n",
    "            \"FIFA\":\"Fédération Internationale de Football Association\",\n",
    "            \"AFC\":\"Asian Football Confederation\", \n",
    "            \"CONCACAF\":\"Confederation of North, Central American and Caribbean Association Football\"\n",
    "           }"
   ]
  },
  {
   "cell_type": "markdown",
   "metadata": {},
   "source": [
    "Write a python function `slow` that takes in one argument, a string\n",
    "- Split the String into words by splitting on spaces using `split`\n",
    "- For each word in the string, if it is in the acronyms dictionary, use the value there, otherwise leave it as is\n",
    "- Return the expanded words joined back together in a single string"
   ]
  },
  {
   "cell_type": "code",
   "execution_count": 5,
   "metadata": {},
   "outputs": [
    {
     "data": {
      "application/vnd.jupyter.widget-view+json": {
       "model_id": "",
       "version_major": 2,
       "version_minor": 0
      },
      "text/plain": [
       "FloatProgress(value=0.0, bar_style='info', description='Progress:', layout=Layout(height='25px', width='50%'),…"
      ]
     },
     "metadata": {},
     "output_type": "display_data"
    }
   ],
   "source": [
    "def slow(row):\n",
    "    old = []\n",
    "    for i in row.split(' '):\n",
    "        if i in acronyms:\n",
    "            old.append(acronyms[i])\n",
    "        else:\n",
    "            old.append(i)\n",
    "    return ' '.join(old)"
   ]
  },
  {
   "cell_type": "markdown",
   "metadata": {},
   "source": [
    "Test your python function below. It should return \"Fédération Internationale de Football Association World Cup\""
   ]
  },
  {
   "cell_type": "code",
   "execution_count": 6,
   "metadata": {},
   "outputs": [
    {
     "data": {
      "application/vnd.jupyter.widget-view+json": {
       "model_id": "",
       "version_major": 2,
       "version_minor": 0
      },
      "text/plain": [
       "FloatProgress(value=0.0, bar_style='info', description='Progress:', layout=Layout(height='25px', width='50%'),…"
      ]
     },
     "metadata": {},
     "output_type": "display_data"
    },
    {
     "name": "stdout",
     "output_type": "stream",
     "text": [
      "Fédération Internationale de Football Association World Cup"
     ]
    }
   ],
   "source": [
    "print(slow(\"FIFA World Cup\"))"
   ]
  },
  {
   "cell_type": "markdown",
   "metadata": {},
   "source": [
    "Register your python function as a UDF using `spark.udf.register`"
   ]
  },
  {
   "cell_type": "code",
   "execution_count": 7,
   "metadata": {},
   "outputs": [
    {
     "data": {
      "application/vnd.jupyter.widget-view+json": {
       "model_id": "",
       "version_major": 2,
       "version_minor": 0
      },
      "text/plain": [
       "FloatProgress(value=0.0, bar_style='info', description='Progress:', layout=Layout(height='25px', width='50%'),…"
      ]
     },
     "metadata": {},
     "output_type": "display_data"
    }
   ],
   "source": [
    "slow_udf = spark.udf.register(\"expand\",slow)"
   ]
  },
  {
   "cell_type": "markdown",
   "metadata": {},
   "source": [
    "Call your UDF function on the tournament column by using a `select` method on `games`"
   ]
  },
  {
   "cell_type": "code",
   "execution_count": 8,
   "metadata": {},
   "outputs": [
    {
     "data": {
      "application/vnd.jupyter.widget-view+json": {
       "model_id": "",
       "version_major": 2,
       "version_minor": 0
      },
      "text/plain": [
       "FloatProgress(value=0.0, bar_style='info', description='Progress:', layout=Layout(height='25px', width='50%'),…"
      ]
     },
     "metadata": {},
     "output_type": "display_data"
    }
   ],
   "source": [
    "expanded = games.select(slow_udf('tournament'))"
   ]
  },
  {
   "cell_type": "markdown",
   "metadata": {},
   "source": [
    "Use distinct and show to view the results"
   ]
  },
  {
   "cell_type": "code",
   "execution_count": 9,
   "metadata": {},
   "outputs": [
    {
     "data": {
      "application/vnd.jupyter.widget-view+json": {
       "model_id": "",
       "version_major": 2,
       "version_minor": 0
      },
      "text/plain": [
       "FloatProgress(value=0.0, bar_style='info', description='Progress:', layout=Layout(height='25px', width='50%'),…"
      ]
     },
     "metadata": {},
     "output_type": "display_data"
    },
    {
     "name": "stdout",
     "output_type": "stream",
     "text": [
      "+------------------------------------------------------------------------------------------------------+\n",
      "|expand(tournament)                                                                                    |\n",
      "+------------------------------------------------------------------------------------------------------+\n",
      "|United Arab Emirates Friendship Tournament                                                            |\n",
      "|Balkan Cup                                                                                            |\n",
      "|CECAFA Cup                                                                                            |\n",
      "|Nordic Championship                                                                                   |\n",
      "|Copa Juan Pinto Durán                                                                                 |\n",
      "|Viva World Cup                                                                                        |\n",
      "|West African Cup                                                                                      |\n",
      "|UNIFFAC Cup                                                                                           |\n",
      "|Gold Cup                                                                                              |\n",
      "|British Championship                                                                                  |\n",
      "|Union of European Football Associations Euro qualification                                            |\n",
      "|King's Cup                                                                                            |\n",
      "|Oceania Nations Cup qualification                                                                     |\n",
      "|Asian Football Confederation Asian Cup qualification                                                  |\n",
      "|Copa Carlos Dittborn                                                                                  |\n",
      "|Union of European Football Associations Euro                                                          |\n",
      "|Copa Bernardo O'Higgins                                                                               |\n",
      "|African Cup of Nations                                                                                |\n",
      "|Baltic Cup                                                                                            |\n",
      "|Dunhill Cup                                                                                           |\n",
      "|Mundialito                                                                                            |\n",
      "|Copa Oswaldo Cruz                                                                                     |\n",
      "|CCCF Championship                                                                                     |\n",
      "|Copa Premio Honor Uruguayo                                                                            |\n",
      "|SAFF Cup                                                                                              |\n",
      "|International Cup                                                                                     |\n",
      "|Copa Paz del Chaco                                                                                    |\n",
      "|FIFI Wild Cup                                                                                         |\n",
      "|Korea Cup                                                                                             |\n",
      "|Merdeka Tournament                                                                                    |\n",
      "|Rous Cup                                                                                              |\n",
      "|ConIFA World Football Cup                                                                             |\n",
      "|Jordan International Tournament                                                                       |\n",
      "|Copa Lipton                                                                                           |\n",
      "|Millennium Cup                                                                                        |\n",
      "|CFU Caribbean Cup qualification                                                                       |\n",
      "|Oceania Nations Cup                                                                                   |\n",
      "|Copa América                                                                                          |\n",
      "|Nile Basin Tournament                                                                                 |\n",
      "|ABCS Tournament                                                                                       |\n",
      "|Asian Football Confederation Challenge Cup                                                            |\n",
      "|Windward Islands Tournament                                                                           |\n",
      "|King Hassan II Tournament                                                                             |\n",
      "|Gulf Cup                                                                                              |\n",
      "|Asian Football Confederation Asian Cup                                                                |\n",
      "|UAFA Cup qualification                                                                                |\n",
      "|Confederation of North, Central American and Caribbean Association Football Championship qualification|\n",
      "|GaNEFo                                                                                                |\n",
      "|Asian Football Confederation Challenge Cup qualification                                              |\n",
      "|CFU Caribbean Cup                                                                                     |\n",
      "|Confederation of North, Central American and Caribbean Association Football Championship              |\n",
      "|Dragon Cup                                                                                            |\n",
      "|Friendly                                                                                              |\n",
      "|Prime Minister's Cup                                                                                  |\n",
      "|Fédération Internationale de Football Association World Cup                                           |\n",
      "|Malta International Tournament                                                                        |\n",
      "|African Cup of Nations qualification                                                                  |\n",
      "|OSN Cup                                                                                               |\n",
      "|Tournoi de France                                                                                     |\n",
      "|UDEAC Cup                                                                                             |\n",
      "|NAFU Championship                                                                                     |\n",
      "|Indonesia Tournament                                                                                  |\n",
      "|Nehru Cup                                                                                             |\n",
      "|Copa del Pacífico                                                                                     |\n",
      "|Simba Tournament                                                                                      |\n",
      "|Island Games                                                                                          |\n",
      "|ConIFA European Football Cup                                                                          |\n",
      "|Gold Cup qualification                                                                                |\n",
      "|Confederations Cup                                                                                    |\n",
      "|ELF Cup                                                                                               |\n",
      "|SKN Football Festival                                                                                 |\n",
      "|COSAFA Cup                                                                                            |\n",
      "|South Pacific Games                                                                                   |\n",
      "|Brazil Independence Cup                                                                               |\n",
      "|Copa América qualification                                                                            |\n",
      "|EAFF Championship                                                                                     |\n",
      "|UNCAF Cup                                                                                             |\n",
      "|Copa Félix Bogado                                                                                     |\n",
      "|Vietnam Independence Cup                                                                              |\n",
      "|Kirin Cup                                                                                             |\n",
      "|UAFA Cup                                                                                              |\n",
      "|Nations Cup                                                                                           |\n",
      "|Atlantic Cup                                                                                          |\n",
      "|Copa Premio Honor Argentino                                                                           |\n",
      "|Copa Roca                                                                                             |\n",
      "|USA Cup                                                                                               |\n",
      "|WAFF Championship                                                                                     |\n",
      "|African Nations Championship                                                                          |\n",
      "|Copa Artigas                                                                                          |\n",
      "|Pan American Championship                                                                             |\n",
      "|Fédération Internationale de Football Association World Cup qualification                             |\n",
      "|Amílcar Cabral Cup                                                                                    |\n",
      "|Cyprus International Tournament                                                                       |\n",
      "|AFF Championship                                                                                      |\n",
      "|Dynasty Cup                                                                                           |\n",
      "|Copa Rio Branco                                                                                       |\n",
      "|Lunar New Year Cup                                                                                    |\n",
      "|Merlion Cup                                                                                           |\n",
      "|Copa Chevallier Boutell                                                                               |\n",
      "|VFF Cup                                                                                               |\n",
      "+------------------------------------------------------------------------------------------------------+\n",
      "only showing top 100 rows"
     ]
    }
   ],
   "source": [
    "expanded.distinct().show(100,False)"
   ]
  },
  {
   "cell_type": "markdown",
   "metadata": {},
   "source": [
    "Now we are going to write the same UDF using Pandas. We have written the python function for you this time"
   ]
  },
  {
   "cell_type": "code",
   "execution_count": 10,
   "metadata": {},
   "outputs": [
    {
     "data": {
      "application/vnd.jupyter.widget-view+json": {
       "model_id": "",
       "version_major": 2,
       "version_minor": 0
      },
      "text/plain": [
       "FloatProgress(value=0.0, bar_style='info', description='Progress:', layout=Layout(height='25px', width='50%'),…"
      ]
     },
     "metadata": {},
     "output_type": "display_data"
    }
   ],
   "source": [
    "def fast(series):\n",
    "    return series.str.split().apply(lambda y: ''.join([acronyms.get(x,x) for x in y]))"
   ]
  },
  {
   "cell_type": "markdown",
   "metadata": {},
   "source": [
    "Make a vectorized UDF using `pandas_udf`"
   ]
  },
  {
   "cell_type": "code",
   "execution_count": 11,
   "metadata": {},
   "outputs": [
    {
     "data": {
      "application/vnd.jupyter.widget-view+json": {
       "model_id": "",
       "version_major": 2,
       "version_minor": 0
      },
      "text/plain": [
       "FloatProgress(value=0.0, bar_style='info', description='Progress:', layout=Layout(height='25px', width='50%'),…"
      ]
     },
     "metadata": {},
     "output_type": "display_data"
    }
   ],
   "source": [
    "fast_udf = pandas_udf(fast,StringType())"
   ]
  },
  {
   "cell_type": "markdown",
   "metadata": {},
   "source": [
    "Call your UDF function on the tournament column by using a `select` method on `games`"
   ]
  },
  {
   "cell_type": "code",
   "execution_count": 12,
   "metadata": {},
   "outputs": [
    {
     "data": {
      "application/vnd.jupyter.widget-view+json": {
       "model_id": "",
       "version_major": 2,
       "version_minor": 0
      },
      "text/plain": [
       "FloatProgress(value=0.0, bar_style='info', description='Progress:', layout=Layout(height='25px', width='50%'),…"
      ]
     },
     "metadata": {},
     "output_type": "display_data"
    }
   ],
   "source": [
    "expanded = games.select(fast_udf('tournament'))"
   ]
  },
  {
   "cell_type": "markdown",
   "metadata": {},
   "source": [
    "Use distinct and show to view the results"
   ]
  },
  {
   "cell_type": "code",
   "execution_count": 13,
   "metadata": {},
   "outputs": [
    {
     "data": {
      "application/vnd.jupyter.widget-view+json": {
       "model_id": "",
       "version_major": 2,
       "version_minor": 0
      },
      "text/plain": [
       "FloatProgress(value=0.0, bar_style='info', description='Progress:', layout=Layout(height='25px', width='50%'),…"
      ]
     },
     "metadata": {},
     "output_type": "display_data"
    },
    {
     "name": "stdout",
     "output_type": "stream",
     "text": [
      "+----------------------------------------------------------------------------------------------------+\n",
      "|fast(tournament)                                                                                    |\n",
      "+----------------------------------------------------------------------------------------------------+\n",
      "|RousCup                                                                                             |\n",
      "|MerlionCup                                                                                          |\n",
      "|IndonesiaTournament                                                                                 |\n",
      "|CopaAméricaqualification                                                                            |\n",
      "|UDEACCup                                                                                            |\n",
      "|Fédération Internationale de Football AssociationWorldCupqualification                              |\n",
      "|WindwardIslandsTournament                                                                           |\n",
      "|ConIFAEuropeanFootballCup                                                                           |\n",
      "|NehruCup                                                                                            |\n",
      "|VFFCup                                                                                              |\n",
      "|CopaCarlosDittborn                                                                                  |\n",
      "|OceaniaNationsCupqualification                                                                      |\n",
      "|ConIFAWorldFootballCup                                                                              |\n",
      "|BalticCup                                                                                           |\n",
      "|CopaRoca                                                                                            |\n",
      "|ConfederationsCup                                                                                   |\n",
      "|CopaNewton                                                                                          |\n",
      "|Confederation of North, Central American and Caribbean Association FootballChampionship             |\n",
      "|CopaLipton                                                                                          |\n",
      "|Mundialito                                                                                          |\n",
      "|AtlanticCup                                                                                         |\n",
      "|DragonCup                                                                                           |\n",
      "|OceaniaNationsCup                                                                                   |\n",
      "|CopaFélixBogado                                                                                     |\n",
      "|VietnamIndependenceCup                                                                              |\n",
      "|KingHassanIITournament                                                                              |\n",
      "|AfricanCupofNationsqualification                                                                    |\n",
      "|Asian Football ConfederationAsianCup                                                                |\n",
      "|NationsCup                                                                                          |\n",
      "|CCCFChampionship                                                                                    |\n",
      "|CopaChevallierBoutell                                                                               |\n",
      "|GoldCup                                                                                             |\n",
      "|CECAFACup                                                                                           |\n",
      "|MerdekaTournament                                                                                   |\n",
      "|COSAFACup                                                                                           |\n",
      "|NordicChampionship                                                                                  |\n",
      "|UAFACupqualification                                                                                |\n",
      "|GaNEFo                                                                                              |\n",
      "|Fédération Internationale de Football AssociationWorldCup                                           |\n",
      "|CopaPremioHonorArgentino                                                                            |\n",
      "|CopaRioBranco                                                                                       |\n",
      "|Friendly                                                                                            |\n",
      "|WestAfricanCup                                                                                      |\n",
      "|BalkanCup                                                                                           |\n",
      "|USACup                                                                                              |\n",
      "|DynastyCup                                                                                          |\n",
      "|BrazilIndependenceCup                                                                               |\n",
      "|Asian Football ConfederationChallengeCupqualification                                               |\n",
      "|VivaWorldCup                                                                                        |\n",
      "|EAFFChampionship                                                                                    |\n",
      "|SAFFCup                                                                                             |\n",
      "|CopaJuanPintoDurán                                                                                  |\n",
      "|AFFChampionship                                                                                     |\n",
      "|SKNFootballFestival                                                                                 |\n",
      "|CopaPazdelChaco                                                                                     |\n",
      "|ELFCup                                                                                              |\n",
      "|NileBasinTournament                                                                                 |\n",
      "|CopadelPacífico                                                                                     |\n",
      "|JordanInternationalTournament                                                                       |\n",
      "|CFUCaribbeanCupqualification                                                                        |\n",
      "|IslandGames                                                                                         |\n",
      "|GoldCupqualification                                                                                |\n",
      "|CopaArtigas                                                                                         |\n",
      "|DunhillCup                                                                                          |\n",
      "|UAFACup                                                                                             |\n",
      "|KirinCup                                                                                            |\n",
      "|WAFFChampionship                                                                                    |\n",
      "|InternationalCup                                                                                    |\n",
      "|SouthPacificGames                                                                                   |\n",
      "|Asian Football ConfederationAsianCupqualification                                                   |\n",
      "|BritishChampionship                                                                                 |\n",
      "|Asian Football ConfederationChallengeCup                                                            |\n",
      "|FIFIWildCup                                                                                         |\n",
      "|Union of European Football AssociationsEuro                                                         |\n",
      "|AfricanNationsChampionship                                                                          |\n",
      "|CopaAmérica                                                                                         |\n",
      "|UnitedArabEmiratesFriendshipTournament                                                              |\n",
      "|CyprusInternationalTournament                                                                       |\n",
      "|KoreaCup                                                                                            |\n",
      "|MaltaInternationalTournament                                                                        |\n",
      "|CopaRamónCastilla                                                                                   |\n",
      "|PanAmericanChampionship                                                                             |\n",
      "|SimbaTournament                                                                                     |\n",
      "|MillenniumCup                                                                                       |\n",
      "|CopaOswaldoCruz                                                                                     |\n",
      "|UNCAFCup                                                                                            |\n",
      "|Union of European Football AssociationsEuroqualification                                            |\n",
      "|CFUCaribbeanCup                                                                                     |\n",
      "|King'sCup                                                                                           |\n",
      "|ABCSTournament                                                                                      |\n",
      "|LunarNewYearCup                                                                                     |\n",
      "|NAFUChampionship                                                                                    |\n",
      "|PrimeMinister'sCup                                                                                  |\n",
      "|TournoideFrance                                                                                     |\n",
      "|OSNCup                                                                                              |\n",
      "|Confederation of North, Central American and Caribbean Association FootballChampionshipqualification|\n",
      "|AmílcarCabralCup                                                                                    |\n",
      "|AfricanCupofNations                                                                                 |\n",
      "|GulfCup                                                                                             |\n",
      "|CopaBernardoO'Higgins                                                                               |\n",
      "+----------------------------------------------------------------------------------------------------+\n",
      "only showing top 100 rows"
     ]
    }
   ],
   "source": [
    "expanded.distinct().show(100,False)"
   ]
  },
  {
   "cell_type": "markdown",
   "metadata": {},
   "source": [
    "### Find the games in which a team scored the most goals, per tournament\n",
    "We have already written the vectorized Python function for you, see if you can follow what it is doing"
   ]
  },
  {
   "cell_type": "code",
   "execution_count": 14,
   "metadata": {},
   "outputs": [
    {
     "data": {
      "application/vnd.jupyter.widget-view+json": {
       "model_id": "",
       "version_major": 2,
       "version_minor": 0
      },
      "text/plain": [
       "FloatProgress(value=0.0, bar_style='info', description='Progress:', layout=Layout(height='25px', width='50%'),…"
      ]
     },
     "metadata": {},
     "output_type": "display_data"
    }
   ],
   "source": [
    "def most_goals(df):\n",
    "    df = df.assign(game_max = df[['home_score','away_score']].max(axis=1))\n",
    "    most = df.iloc[df.game_max.idxmax()]\n",
    "    most = most.drop('game_max')\n",
    "    return most.to_frame().T"
   ]
  },
  {
   "cell_type": "markdown",
   "metadata": {},
   "source": [
    "Next we need to create the return type, which will have a list of all the columns and their types.\n",
    "\n",
    "We've done the first few columns for you"
   ]
  },
  {
   "cell_type": "code",
   "execution_count": 15,
   "metadata": {},
   "outputs": [
    {
     "data": {
      "application/vnd.jupyter.widget-view+json": {
       "model_id": "",
       "version_major": 2,
       "version_minor": 0
      },
      "text/plain": [
       "FloatProgress(value=0.0, bar_style='info', description='Progress:', layout=Layout(height='25px', width='50%'),…"
      ]
     },
     "metadata": {},
     "output_type": "display_data"
    }
   ],
   "source": [
    "gamesType = StructType([StructField('date',DateType()),\n",
    "                        StructField('home_team',StringType()),\n",
    "                        StructField('away_team',StringType()),\n",
    "                        StructField('home_score',IntegerType()),\n",
    "                        StructField('away_score',IntegerType()),\n",
    "                        StructField('tournament',StringType()),\n",
    "                        StructField('city',StringType()),\n",
    "                        StructField('country',StringType()),\n",
    "                        StructField('neutral',IntegerType())\n",
    "                       ])"
   ]
  },
  {
   "cell_type": "markdown",
   "metadata": {},
   "source": [
    "Make a GROUPED_MAP Vectorized UDF"
   ]
  },
  {
   "cell_type": "code",
   "execution_count": 16,
   "metadata": {},
   "outputs": [
    {
     "data": {
      "application/vnd.jupyter.widget-view+json": {
       "model_id": "",
       "version_major": 2,
       "version_minor": 0
      },
      "text/plain": [
       "FloatProgress(value=0.0, bar_style='info', description='Progress:', layout=Layout(height='25px', width='50%'),…"
      ]
     },
     "metadata": {},
     "output_type": "display_data"
    }
   ],
   "source": [
    "most_goals_udf = pandas_udf(most_goals, gamesType, PandasUDFType.GROUPED_MAP )"
   ]
  },
  {
   "cell_type": "markdown",
   "metadata": {},
   "source": [
    "Use `groupby` and `apply` to determine the game in each tournament with the most goals for one team. \n",
    "Use `show` to view the results"
   ]
  },
  {
   "cell_type": "code",
   "execution_count": 17,
   "metadata": {},
   "outputs": [
    {
     "data": {
      "application/vnd.jupyter.widget-view+json": {
       "model_id": "",
       "version_major": 2,
       "version_minor": 0
      },
      "text/plain": [
       "FloatProgress(value=0.0, bar_style='info', description='Progress:', layout=Layout(height='25px', width='50%'),…"
      ]
     },
     "metadata": {},
     "output_type": "display_data"
    },
    {
     "name": "stdout",
     "output_type": "stream",
     "text": [
      "+----------+-----------+--------------------+----------+----------+--------------------+--------------+--------------------+-------+\n",
      "|      date|  home_team|           away_team|home_score|away_score|          tournament|          city|             country|neutral|\n",
      "+----------+-----------+--------------------+----------+----------+--------------------+--------------+--------------------+-------+\n",
      "|2000-10-07|  Australia|      Korea Republic|         2|         4|United Arab Emira...|         Dubai|United Arab Emirates|      1|\n",
      "|1948-06-06|    Hungary|             Romania|         9|         0|          Balkan Cup|      Budapest|             Hungary|      0|\n",
      "|2000-06-25|Netherlands|              Serbia|         6|         1|           UEFA Euro|     Rotterdam|         Netherlands|      0|\n",
      "|2001-12-09|     Uganda|            Djibouti|        10|         1|          CECAFA Cup|        Kigali|              Rwanda|      1|\n",
      "|1954-08-15|    Finland|              Sweden|         1|        10| Nordic Championship|      Helsinki|             Finland|      0|\n",
      "|1971-11-03|      Chile|             Uruguay|         5|         0|Copa Juan Pinto D...|      Santiago|               Chile|      0|\n",
      "|1999-11-10|       Chad|São Tomé and Prín...|         5|         0|         UNIFFAC Cup|    Libreville|               Gabon|      1|\n",
      "|2006-11-24|      Sápmi|              Monaco|        21|         1|      Viva World Cup|        Hyères|              France|      1|\n",
      "|1982-02-15|      Ghana|         Ivory Coast|         5|         5|    West African Cup|       Cotonou|               Benin|      1|\n",
      "|1993-07-11|     Mexico|          Martinique|         9|         0|            Gold Cup|   Mexico City|              Mexico|      0|\n",
      "|1899-02-18|    England|    Northern Ireland|        13|         2|British Championship|    Sunderland|             England|      0|\n",
      "|2000-02-23|   Thailand|              Brazil|         0|         7|          King's Cup|       Bangkok|            Thailand|      0|\n",
      "|1998-09-07|     Tahiti|      American Samoa|        12|         0|Oceania Nations C...|        Avarua|        Cook Islands|      1|\n",
      "|1973-07-13|  Argentina|               Chile|         5|         4|Copa Carlos Dittborn|  Buenos Aires|           Argentina|      0|\n",
      "|1959-09-17|     Brazil|               Chile|         7|         0|Copa Bernardo O'H...|Rio de Janeiro|              Brazil|      0|\n",
      "|1970-02-10|   Ethiopia|         Ivory Coast|         1|         6|African Cup of Na...|      Khartoum|               Sudan|      1|\n",
      "|1995-05-20|    Estonia|           Lithuania|         0|         7|          Baltic Cup|          Riga|              Latvia|      1|\n",
      "|1997-02-26|    Vietnam|            Zimbabwe|         0|         6|         Dunhill Cup|  Kuala Lumpur|            Malaysia|      1|\n",
      "|1981-01-07|     Brazil|             Germany|         4|         1|          Mundialito|    Montevideo|             Uruguay|      1|\n",
      "|1962-04-21|     Brazil|            Paraguay|         6|         0|   Copa Oswaldo Cruz|Rio de Janeiro|              Brazil|      0|\n",
      "+----------+-----------+--------------------+----------+----------+--------------------+--------------+--------------------+-------+\n",
      "only showing top 20 rows"
     ]
    }
   ],
   "source": [
    "games.groupby('tournament').apply(most_goals_udf).show()"
   ]
  },
  {
   "cell_type": "markdown",
   "metadata": {},
   "source": [
    "## Caching and Repartioning"
   ]
  },
  {
   "cell_type": "code",
   "execution_count": 18,
   "metadata": {},
   "outputs": [
    {
     "data": {
      "application/vnd.jupyter.widget-view+json": {
       "model_id": "",
       "version_major": 2,
       "version_minor": 0
      },
      "text/plain": [
       "FloatProgress(value=0.0, bar_style='info', description='Progress:', layout=Layout(height='25px', width='50%'),…"
      ]
     },
     "metadata": {},
     "output_type": "display_data"
    }
   ],
   "source": [
    "from pyspark.sql.functions import year"
   ]
  },
  {
   "cell_type": "code",
   "execution_count": 19,
   "metadata": {},
   "outputs": [
    {
     "data": {
      "application/vnd.jupyter.widget-view+json": {
       "model_id": "",
       "version_major": 2,
       "version_minor": 0
      },
      "text/plain": [
       "FloatProgress(value=0.0, bar_style='info', description='Progress:', layout=Layout(height='25px', width='50%'),…"
      ]
     },
     "metadata": {},
     "output_type": "display_data"
    }
   ],
   "source": [
    "games = games.withColumn('date', year(games.date))"
   ]
  },
  {
   "cell_type": "markdown",
   "metadata": {},
   "source": [
    "First we are going to run a `groupby` on the data as is "
   ]
  },
  {
   "cell_type": "code",
   "execution_count": 20,
   "metadata": {},
   "outputs": [
    {
     "data": {
      "application/vnd.jupyter.widget-view+json": {
       "model_id": "",
       "version_major": 2,
       "version_minor": 0
      },
      "text/plain": [
       "FloatProgress(value=0.0, bar_style='info', description='Progress:', layout=Layout(height='25px', width='50%'),…"
      ]
     },
     "metadata": {},
     "output_type": "display_data"
    },
    {
     "name": "stdout",
     "output_type": "stream",
     "text": [
      "+--------------------+---------+\n",
      "|          tournament|min(date)|\n",
      "+--------------------+---------+\n",
      "|United Arab Emira...|     1994|\n",
      "|          Balkan Cup|     1929|\n",
      "|           UEFA Euro|     1960|\n",
      "|          CECAFA Cup|     1973|\n",
      "| Nordic Championship|     1924|\n",
      "|Copa Juan Pinto D...|     1963|\n",
      "|      Viva World Cup|     2006|\n",
      "|    West African Cup|     1982|\n",
      "|         UNIFFAC Cup|     1999|\n",
      "|            Gold Cup|     1991|\n",
      "|British Championship|     1884|\n",
      "|          King's Cup|     1968|\n",
      "|Oceania Nations C...|     1994|\n",
      "|Copa Carlos Dittborn|     1962|\n",
      "|Copa Bernardo O'H...|     1955|\n",
      "|African Cup of Na...|     1957|\n",
      "|          Baltic Cup|     1928|\n",
      "|         Dunhill Cup|     1997|\n",
      "|          Mundialito|     1980|\n",
      "|   Copa Oswaldo Cruz|     1950|\n",
      "+--------------------+---------+\n",
      "only showing top 20 rows"
     ]
    }
   ],
   "source": [
    "games.groupby('tournament').min('date').show()"
   ]
  },
  {
   "cell_type": "code",
   "execution_count": 21,
   "metadata": {},
   "outputs": [
    {
     "data": {
      "application/vnd.jupyter.widget-view+json": {
       "model_id": "",
       "version_major": 2,
       "version_minor": 0
      },
      "text/plain": [
       "FloatProgress(value=0.0, bar_style='info', description='Progress:', layout=Layout(height='25px', width='50%'),…"
      ]
     },
     "metadata": {},
     "output_type": "display_data"
    },
    {
     "name": "stdout",
     "output_type": "stream",
     "text": [
      "+--------------------+-----+\n",
      "|          tournament|count|\n",
      "+--------------------+-----+\n",
      "|United Arab Emira...|   31|\n",
      "|          Balkan Cup|   87|\n",
      "|           UEFA Euro|  286|\n",
      "|          CECAFA Cup|  620|\n",
      "| Nordic Championship|  283|\n",
      "|Copa Juan Pinto D...|   16|\n",
      "|      Viva World Cup|   56|\n",
      "|    West African Cup|   54|\n",
      "|         UNIFFAC Cup|   15|\n",
      "|            Gold Cup|  296|\n",
      "|British Championship|  501|\n",
      "|          King's Cup|  234|\n",
      "|Oceania Nations C...|   70|\n",
      "|Copa Carlos Dittborn|   16|\n",
      "|Copa Bernardo O'H...|   10|\n",
      "|African Cup of Na...|  638|\n",
      "|          Baltic Cup|   87|\n",
      "|         Dunhill Cup|   15|\n",
      "|          Mundialito|    7|\n",
      "|   Copa Oswaldo Cruz|   16|\n",
      "+--------------------+-----+\n",
      "only showing top 20 rows"
     ]
    }
   ],
   "source": [
    "games.groupby('tournament').count().show()"
   ]
  },
  {
   "cell_type": "markdown",
   "metadata": {},
   "source": [
    "Now, repartition on tournament using `repartition` and then call `cache`. Make 100 partitions"
   ]
  },
  {
   "cell_type": "code",
   "execution_count": 22,
   "metadata": {},
   "outputs": [
    {
     "data": {
      "application/vnd.jupyter.widget-view+json": {
       "model_id": "",
       "version_major": 2,
       "version_minor": 0
      },
      "text/plain": [
       "FloatProgress(value=0.0, bar_style='info', description='Progress:', layout=Layout(height='25px', width='50%'),…"
      ]
     },
     "metadata": {},
     "output_type": "display_data"
    }
   ],
   "source": [
    "games = games.repartition(100,'tournament').cache()"
   ]
  },
  {
   "cell_type": "markdown",
   "metadata": {},
   "source": [
    "Run the same code as before"
   ]
  },
  {
   "cell_type": "code",
   "execution_count": 23,
   "metadata": {},
   "outputs": [
    {
     "data": {
      "application/vnd.jupyter.widget-view+json": {
       "model_id": "",
       "version_major": 2,
       "version_minor": 0
      },
      "text/plain": [
       "FloatProgress(value=0.0, bar_style='info', description='Progress:', layout=Layout(height='25px', width='50%'),…"
      ]
     },
     "metadata": {},
     "output_type": "display_data"
    },
    {
     "name": "stdout",
     "output_type": "stream",
     "text": [
      "+--------------------+---------+\n",
      "|          tournament|min(date)|\n",
      "+--------------------+---------+\n",
      "|Malta Internation...|     1988|\n",
      "|United Arab Emira...|     1994|\n",
      "|          Balkan Cup|     1929|\n",
      "|           UEFA Euro|     1960|\n",
      "|   AFC Challenge Cup|     2006|\n",
      "|African Cup of Na...|     1961|\n",
      "| Nordic Championship|     1924|\n",
      "|          CECAFA Cup|     1973|\n",
      "|             OSN Cup|     2013|\n",
      "|   Tournoi de France|     1988|\n",
      "|Copa Juan Pinto D...|     1963|\n",
      "|           UDEAC Cup|     1984|\n",
      "|    West African Cup|     1982|\n",
      "|      Viva World Cup|     2006|\n",
      "|         UNIFFAC Cup|     1999|\n",
      "|   NAFU Championship|     1947|\n",
      "|CONCACAF Champion...|     1965|\n",
      "|            Gold Cup|     1991|\n",
      "|Indonesia Tournament|     1970|\n",
      "|           Nehru Cup|     1982|\n",
      "+--------------------+---------+\n",
      "only showing top 20 rows"
     ]
    }
   ],
   "source": [
    "games.groupby('tournament').min('date').show()"
   ]
  },
  {
   "cell_type": "code",
   "execution_count": 24,
   "metadata": {},
   "outputs": [
    {
     "data": {
      "application/vnd.jupyter.widget-view+json": {
       "model_id": "",
       "version_major": 2,
       "version_minor": 0
      },
      "text/plain": [
       "FloatProgress(value=0.0, bar_style='info', description='Progress:', layout=Layout(height='25px', width='50%'),…"
      ]
     },
     "metadata": {},
     "output_type": "display_data"
    },
    {
     "name": "stdout",
     "output_type": "stream",
     "text": [
      "+--------------------+-----+\n",
      "|          tournament|count|\n",
      "+--------------------+-----+\n",
      "|Malta Internation...|   53|\n",
      "|United Arab Emira...|   31|\n",
      "|          Balkan Cup|   87|\n",
      "|           UEFA Euro|  286|\n",
      "|   AFC Challenge Cup|  100|\n",
      "|African Cup of Na...| 1558|\n",
      "| Nordic Championship|  283|\n",
      "|          CECAFA Cup|  620|\n",
      "|             OSN Cup|    4|\n",
      "|   Tournoi de France|   10|\n",
      "|Copa Juan Pinto D...|   16|\n",
      "|           UDEAC Cup|   65|\n",
      "|    West African Cup|   54|\n",
      "|      Viva World Cup|   56|\n",
      "|         UNIFFAC Cup|   15|\n",
      "|   NAFU Championship|    7|\n",
      "|CONCACAF Champion...|   21|\n",
      "|            Gold Cup|  296|\n",
      "|Indonesia Tournament|   75|\n",
      "|           Nehru Cup|   90|\n",
      "+--------------------+-----+\n",
      "only showing top 20 rows"
     ]
    }
   ],
   "source": [
    "games.groupby('tournament').count().show()"
   ]
  }
 ],
 "metadata": {
  "kernelspec": {
   "display_name": "PySpark",
   "language": "",
   "name": "pysparkkernel"
  },
  "language_info": {
   "codemirror_mode": {
    "name": "python",
    "version": 2
   },
   "mimetype": "text/x-python",
   "name": "pyspark",
   "pygments_lexer": "python2"
  }
 },
 "nbformat": 4,
 "nbformat_minor": 2
}
