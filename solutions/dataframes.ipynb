{
 "cells": [
  {
   "cell_type": "markdown",
   "metadata": {},
   "source": [
    "# DataFrame Lab\n",
    "\n",
    "In this lab, we will be working with data from [Libraries.io](http://Libraries.io), a package manager aggregator. Our data consist of two files, one detailing packages and package managers, the other detailing the code repositories the packages are developed in. "
   ]
  },
  {
   "cell_type": "code",
   "execution_count": 1,
   "metadata": {},
   "outputs": [
    {
     "name": "stdout",
     "output_type": "stream",
     "text": [
      "Starting Spark application\n"
     ]
    },
    {
     "data": {
      "text/html": [
       "<table>\n",
       "<tr><th>ID</th><th>YARN Application ID</th><th>Kind</th><th>State</th><th>Spark UI</th><th>Driver log</th><th>Current session?</th></tr><tr><td>15</td><td>application_1566055793802_0013</td><td>pyspark</td><td>idle</td><td><a target=\"_blank\" href=\"http://spark-training-primary.umbctraining.com:8088/proxy/application_1566055793802_0013/\">Link</a></td><td><a target=\"_blank\" href=\"http://spark-training-slave-04.umbctraining.com:8042/node/containerlogs/container_e04_1566055793802_0013_01_000001/livy\">Link</a></td><td>✔</td></tr></table>"
      ],
      "text/plain": [
       "<IPython.core.display.HTML object>"
      ]
     },
     "metadata": {},
     "output_type": "display_data"
    },
    {
     "data": {
      "application/vnd.jupyter.widget-view+json": {
       "model_id": "",
       "version_major": 2,
       "version_minor": 0
      },
      "text/plain": [
       "FloatProgress(value=0.0, bar_style='info', description='Progress:', layout=Layout(height='25px', width='50%'),…"
      ]
     },
     "metadata": {},
     "output_type": "display_data"
    },
    {
     "name": "stdout",
     "output_type": "stream",
     "text": [
      "SparkSession available as 'spark'.\n"
     ]
    },
    {
     "data": {
      "application/vnd.jupyter.widget-view+json": {
       "model_id": "",
       "version_major": 2,
       "version_minor": 0
      },
      "text/plain": [
       "FloatProgress(value=0.0, bar_style='info', description='Progress:', layout=Layout(height='25px', width='50%'),…"
      ]
     },
     "metadata": {},
     "output_type": "display_data"
    }
   ],
   "source": [
    "data = spark.read.csv(\"hdfs:///data/projects-1.0.0-2017-06-15.csv\",header=True, inferSchema=True, mode=\"DROPMALFORMED\")"
   ]
  },
  {
   "cell_type": "markdown",
   "metadata": {},
   "source": [
    "Verify the data was read in correctly using `show`"
   ]
  },
  {
   "cell_type": "code",
   "execution_count": 2,
   "metadata": {},
   "outputs": [
    {
     "data": {
      "application/vnd.jupyter.widget-view+json": {
       "model_id": "",
       "version_major": 2,
       "version_minor": 0
      },
      "text/plain": [
       "FloatProgress(value=0.0, bar_style='info', description='Progress:', layout=Layout(height='25px', width='50%'),…"
      ]
     },
     "metadata": {},
     "output_type": "display_data"
    },
    {
     "name": "stdout",
     "output_type": "stream",
     "text": [
      "-RECORD 0------------------------------------------------\n",
      " ID                               | 1                    \n",
      " Platform                         | Alcatraz             \n",
      " Name                             | 21st digital Temp... \n",
      " Created Timestamp                | 2015-01-11 23:56:... \n",
      " Updated Timestamp                | 2017-06-14 01:03:... \n",
      " Description                      | A starting point ... \n",
      " Keywords                         | null                 \n",
      " Homepage URL                     | https://github.co... \n",
      " Licenses                         | null                 \n",
      " Repository URL                   | https://github.co... \n",
      " Versions Count                   | 0                    \n",
      " SourceRank                       | 2                    \n",
      " Latest Release Publish Timestamp | 2017-06-14 01:03:... \n",
      " Latest Release Number            | null                 \n",
      " Package Manager ID               | null                 \n",
      " Dependent Projects Count         | 0                    \n",
      " Language                         | Objective-C          \n",
      " Status                           | null                 \n",
      " Last synced Timestamp            | 2017-06-14 01:03:... \n",
      " Dependent Repositories Count     | 0                    \n",
      " Repository ID                    | 3945                 \n",
      "-RECORD 1------------------------------------------------\n",
      " ID                               | 2                    \n",
      " Platform                         | Alcatraz             \n",
      " Name                             | ACCodeSnippetRepo... \n",
      " Created Timestamp                | 2015-01-11 23:56:... \n",
      " Updated Timestamp                | 2017-06-14 01:03:... \n",
      " Description                      | Synchronize code ... \n",
      " Keywords                         | null                 \n",
      " Homepage URL                     | https://github.co... \n",
      " Licenses                         | MIT                  \n",
      " Repository URL                   | https://github.co... \n",
      " Versions Count                   | 0                    \n",
      " SourceRank                       | 11                   \n",
      " Latest Release Publish Timestamp | 2014-03-13 18:40:... \n",
      " Latest Release Number            | 0.0.4                \n",
      " Package Manager ID               | null                 \n",
      " Dependent Projects Count         | 0                    \n",
      " Language                         | Objective-C          \n",
      " Status                           | null                 \n",
      " Last synced Timestamp            | 2017-06-14 01:03:... \n",
      " Dependent Repositories Count     | 0                    \n",
      " Repository ID                    | 3943                 \n",
      "-RECORD 2------------------------------------------------\n",
      " ID                               | 3                    \n",
      " Platform                         | Alcatraz             \n",
      " Name                             | AdjustFontSize       \n",
      " Created Timestamp                | 2015-01-11 23:56:... \n",
      " Updated Timestamp                | 2017-06-14 01:03:... \n",
      " Description                      | Adjust font size ... \n",
      " Keywords                         | null                 \n",
      " Homepage URL                     | https://github.co... \n",
      " Licenses                         | null                 \n",
      " Repository URL                   | https://github.co... \n",
      " Versions Count                   | 0                    \n",
      " SourceRank                       | 4                    \n",
      " Latest Release Publish Timestamp | 2017-06-14 01:03:... \n",
      " Latest Release Number            | null                 \n",
      " Package Manager ID               | null                 \n",
      " Dependent Projects Count         | 0                    \n",
      " Language                         | Objective-C          \n",
      " Status                           | null                 \n",
      " Last synced Timestamp            | 2017-06-14 01:03:... \n",
      " Dependent Repositories Count     | 0                    \n",
      " Repository ID                    | 3944                 \n",
      "-RECORD 3------------------------------------------------\n",
      " ID                               | 4                    \n",
      " Platform                         | Alcatraz             \n",
      " Name                             | AeroGear Template    \n",
      " Created Timestamp                | 2015-01-11 23:56:... \n",
      " Updated Timestamp                | 2017-06-14 01:03:... \n",
      " Description                      | Setup for your Ae... \n",
      " Keywords                         | null                 \n",
      " Homepage URL                     | https://github.co... \n",
      " Licenses                         | null                 \n",
      " Repository URL                   | https://github.co... \n",
      " Versions Count                   | 0                    \n",
      " SourceRank                       | 8                    \n",
      " Latest Release Publish Timestamp | 2014-10-16 07:53:... \n",
      " Latest Release Number            | 1.6.2                \n",
      " Package Manager ID               | null                 \n",
      " Dependent Projects Count         | 0                    \n",
      " Language                         | Objective-C          \n",
      " Status                           | null                 \n",
      " Last synced Timestamp            | 2017-06-14 01:03:... \n",
      " Dependent Repositories Count     | 0                    \n",
      " Repository ID                    | 3946                 \n",
      "-RECORD 4------------------------------------------------\n",
      " ID                               | 5                    \n",
      " Platform                         | Alcatraz             \n",
      " Name                             | Aerolitec Templates  \n",
      " Created Timestamp                | 2015-01-11 23:56:... \n",
      " Updated Timestamp                | 2017-06-14 01:03:... \n",
      " Description                      | File templates fo... \n",
      " Keywords                         | null                 \n",
      " Homepage URL                     | https://github.co... \n",
      " Licenses                         | null                 \n",
      " Repository URL                   | https://github.co... \n",
      " Versions Count                   | 0                    \n",
      " SourceRank                       | 1                    \n",
      " Latest Release Publish Timestamp | 2017-06-14 01:03:... \n",
      " Latest Release Number            | null                 \n",
      " Package Manager ID               | null                 \n",
      " Dependent Projects Count         | 0                    \n",
      " Language                         | Objective-C          \n",
      " Status                           | null                 \n",
      " Last synced Timestamp            | 2017-06-14 01:03:... \n",
      " Dependent Repositories Count     | 0                    \n",
      " Repository ID                    | 3947                 \n",
      "-RECORD 5------------------------------------------------\n",
      " ID                               | 6                    \n",
      " Platform                         | Alcatraz             \n",
      " Name                             | AMMethod2Implement   \n",
      " Created Timestamp                | 2015-01-11 23:56:... \n",
      " Updated Timestamp                | 2017-06-14 01:03:... \n",
      " Description                      | A simple Xcode pl... \n",
      " Keywords                         | null                 \n",
      " Homepage URL                     | https://github.co... \n",
      " Licenses                         | MIT                  \n",
      " Repository URL                   | https://github.co... \n",
      " Versions Count                   | 0                    \n",
      " SourceRank                       | 8                    \n",
      " Latest Release Publish Timestamp | 2015-09-22 04:49:... \n",
      " Latest Release Number            | v3.3                 \n",
      " Package Manager ID               | null                 \n",
      " Dependent Projects Count         | 0                    \n",
      " Language                         | Objective-C          \n",
      " Status                           | null                 \n",
      " Last synced Timestamp            | 2017-06-14 01:03:... \n",
      " Dependent Repositories Count     | 0                    \n",
      " Repository ID                    | 3950                 \n",
      "-RECORD 6------------------------------------------------\n",
      " ID                               | 7                    \n",
      " Platform                         | Alcatraz             \n",
      " Name                             | Anubis               \n",
      " Created Timestamp                | 2015-01-11 23:56:... \n",
      " Updated Timestamp                | 2017-06-14 01:03:... \n",
      " Description                      | Easy on the eyes ... \n",
      " Keywords                         | null                 \n",
      " Homepage URL                     | https://raw.githu... \n",
      " Licenses                         | null                 \n",
      " Repository URL                   | https://raw.githu... \n",
      " Versions Count                   | 0                    \n",
      " SourceRank                       | 1                    \n",
      " Latest Release Publish Timestamp | 2017-06-14 01:03:... \n",
      " Latest Release Number            | null                 \n",
      " Package Manager ID               | null                 \n",
      " Dependent Projects Count         | 0                    \n",
      " Language                         | null                 \n",
      " Status                           | null                 \n",
      " Last synced Timestamp            | 2017-06-14 01:03:... \n",
      " Dependent Repositories Count     | 0                    \n",
      " Repository ID                    | 3949                 \n",
      "-RECORD 7------------------------------------------------\n",
      " ID                               | 8                    \n",
      " Platform                         | Alcatraz             \n",
      " Name                             | ApportablePlugin     \n",
      " Created Timestamp                | 2015-01-11 23:56:... \n",
      " Updated Timestamp                | 2017-06-14 01:03:... \n",
      " Description                      | Simple Plugin for... \n",
      " Keywords                         | null                 \n",
      " Homepage URL                     | https://github.co... \n",
      " Licenses                         | null                 \n",
      " Repository URL                   | https://github.co... \n",
      " Versions Count                   | 0                    \n",
      " SourceRank                       | 6                    \n",
      " Latest Release Publish Timestamp | 2014-05-15 12:26:... \n",
      " Latest Release Number            | v1.1                 \n",
      " Package Manager ID               | null                 \n",
      " Dependent Projects Count         | 0                    \n",
      " Language                         | Objective-C          \n",
      " Status                           | null                 \n",
      " Last synced Timestamp            | 2017-06-14 01:03:... \n",
      " Dependent Repositories Count     | 0                    \n",
      " Repository ID                    | 3948                 \n",
      "-RECORD 8------------------------------------------------\n",
      " ID                               | 9                    \n",
      " Platform                         | Alcatraz             \n",
      " Name                             | Aqueducts 3.0 (Dawn) \n",
      " Created Timestamp                | 2015-01-11 23:56:... \n",
      " Updated Timestamp                | 2017-06-14 01:03:... \n",
      " Description                      | Non-drowsy aggres... \n",
      " Keywords                         | null                 \n",
      " Homepage URL                     | https://raw.githu... \n",
      " Licenses                         | null                 \n",
      " Repository URL                   | https://raw.githu... \n",
      " Versions Count                   | 0                    \n",
      " SourceRank                       | 0                    \n",
      " Latest Release Publish Timestamp | 2017-06-14 01:03:... \n",
      " Latest Release Number            | null                 \n",
      " Package Manager ID               | null                 \n",
      " Dependent Projects Count         | 0                    \n",
      " Language                         | null                 \n",
      " Status                           | null                 \n",
      " Last synced Timestamp            | 2017-06-14 01:03:... \n",
      " Dependent Repositories Count     | 0                    \n",
      " Repository ID                    | null                 \n",
      "-RECORD 9------------------------------------------------\n",
      " ID                               | 10                   \n",
      " Platform                         | Alcatraz             \n",
      " Name                             | Aqueducts 3.0 (Ni... \n",
      " Created Timestamp                | 2015-01-11 23:56:... \n",
      " Updated Timestamp                | 2017-06-14 01:03:... \n",
      " Description                      | Non-habit-forming... \n",
      " Keywords                         | null                 \n",
      " Homepage URL                     | https://raw.githu... \n",
      " Licenses                         | null                 \n",
      " Repository URL                   | https://raw.githu... \n",
      " Versions Count                   | 0                    \n",
      " SourceRank                       | 0                    \n",
      " Latest Release Publish Timestamp | 2017-06-14 01:03:... \n",
      " Latest Release Number            | null                 \n",
      " Package Manager ID               | null                 \n",
      " Dependent Projects Count         | 0                    \n",
      " Language                         | null                 \n",
      " Status                           | null                 \n",
      " Last synced Timestamp            | 2017-06-14 01:03:... \n",
      " Dependent Repositories Count     | 0                    \n",
      " Repository ID                    | null                 \n",
      "-RECORD 10-----------------------------------------------\n",
      " ID                               | 11                   \n",
      " Platform                         | Alcatraz             \n",
      " Name                             | Armadillu            \n",
      " Created Timestamp                | 2015-01-11 23:56:... \n",
      " Updated Timestamp                | 2017-06-14 01:03:... \n",
      " Description                      | Dark deep blue th... \n",
      " Keywords                         | null                 \n",
      " Homepage URL                     | https://raw.githu... \n",
      " Licenses                         | null                 \n",
      " Repository URL                   | https://raw.githu... \n",
      " Versions Count                   | 0                    \n",
      " SourceRank                       | 1                    \n",
      " Latest Release Publish Timestamp | 2017-06-14 01:03:... \n",
      " Latest Release Number            | null                 \n",
      " Package Manager ID               | null                 \n",
      " Dependent Projects Count         | 0                    \n",
      " Language                         | null                 \n",
      " Status                           | null                 \n",
      " Last synced Timestamp            | 2017-06-14 01:03:... \n",
      " Dependent Repositories Count     | 0                    \n",
      " Repository ID                    | 3953                 \n",
      "-RECORD 11-----------------------------------------------\n",
      " ID                               | 12                   \n",
      " Platform                         | Alcatraz             \n",
      " Name                             | Atom Light           \n",
      " Created Timestamp                | 2015-01-11 23:56:... \n",
      " Updated Timestamp                | 2017-06-14 01:03:... \n",
      " Description                      | A light theme bas... \n",
      " Keywords                         | null                 \n",
      " Homepage URL                     | https://raw.githu... \n",
      " Licenses                         | null                 \n",
      " Repository URL                   | https://raw.githu... \n",
      " Versions Count                   | 0                    \n",
      " SourceRank                       | 0                    \n",
      " Latest Release Publish Timestamp | 2017-06-14 01:03:... \n",
      " Latest Release Number            | null                 \n",
      " Package Manager ID               | null                 \n",
      " Dependent Projects Count         | 0                    \n",
      " Language                         | null                 \n",
      " Status                           | null                 \n",
      " Last synced Timestamp            | 2017-06-14 01:03:... \n",
      " Dependent Repositories Count     | 0                    \n",
      " Repository ID                    | null                 \n",
      "-RECORD 12-----------------------------------------------\n",
      " ID                               | 13                   \n",
      " Platform                         | Alcatraz             \n",
      " Name                             | Auto-Importer        \n",
      " Created Timestamp                | 2015-01-11 23:56:... \n",
      " Updated Timestamp                | 2017-06-14 01:03:... \n",
      " Description                      | A plugin to quick... \n",
      " Keywords                         | null                 \n",
      " Homepage URL                     | https://github.co... \n",
      " Licenses                         | MIT                  \n",
      " Repository URL                   | https://github.co... \n",
      " Versions Count                   | 0                    \n",
      " SourceRank                       | 6                    \n",
      " Latest Release Publish Timestamp | 2017-06-14 01:03:... \n",
      " Latest Release Number            | null                 \n",
      " Package Manager ID               | null                 \n",
      " Dependent Projects Count         | 0                    \n",
      " Language                         | Objective-C          \n",
      " Status                           | null                 \n",
      " Last synced Timestamp            | 2017-06-14 01:03:... \n",
      " Dependent Repositories Count     | 0                    \n",
      " Repository ID                    | 3951                 \n",
      "-RECORD 13-----------------------------------------------\n",
      " ID                               | 14                   \n",
      " Platform                         | Alcatraz             \n",
      " Name                             | Aviator              \n",
      " Created Timestamp                | 2015-01-11 23:56:... \n",
      " Updated Timestamp                | 2017-06-14 01:03:... \n",
      " Description                      | Adds the AppCode ... \n",
      " Keywords                         | null                 \n",
      " Homepage URL                     | https://github.co... \n",
      " Licenses                         | MIT                  \n",
      " Repository URL                   | https://github.co... \n",
      " Versions Count                   | 0                    \n",
      " SourceRank                       | 4                    \n",
      " Latest Release Publish Timestamp | 2017-06-14 01:03:... \n",
      " Latest Release Number            | null                 \n",
      " Package Manager ID               | null                 \n",
      " Dependent Projects Count         | 0                    \n",
      " Language                         | Objective-C          \n",
      " Status                           | null                 \n",
      " Last synced Timestamp            | 2017-06-14 01:03:... \n",
      " Dependent Repositories Count     | 0                    \n",
      " Repository ID                    | 3952                 \n",
      "-RECORD 14-----------------------------------------------\n",
      " ID                               | 15                   \n",
      " Platform                         | Alcatraz             \n",
      " Name                             | Backlight            \n",
      " Created Timestamp                | 2015-01-11 23:56:... \n",
      " Updated Timestamp                | 2017-06-14 01:03:... \n",
      " Description                      | Highlights the cu... \n",
      " Keywords                         | null                 \n",
      " Homepage URL                     | https://github.co... \n",
      " Licenses                         | null                 \n",
      " Repository URL                   | https://github.co... \n",
      " Versions Count                   | 0                    \n",
      " SourceRank                       | 5                    \n",
      " Latest Release Publish Timestamp | 2017-06-14 01:03:... \n",
      " Latest Release Number            | null                 \n",
      " Package Manager ID               | null                 \n",
      " Dependent Projects Count         | 0                    \n",
      " Language                         | Objective-C          \n",
      " Status                           | null                 \n",
      " Last synced Timestamp            | 2017-06-14 01:03:... \n",
      " Dependent Repositories Count     | 0                    \n",
      " Repository ID                    | 4371                 \n",
      "-RECORD 15-----------------------------------------------\n",
      " ID                               | 16                   \n",
      " Platform                         | Alcatraz             \n",
      " Name                             | Base16 Ocean         \n",
      " Created Timestamp                | 2015-01-11 23:56:... \n",
      " Updated Timestamp                | 2017-06-14 01:03:... \n",
      " Description                      | A spacegray/base1... \n",
      " Keywords                         | null                 \n",
      " Homepage URL                     | https://raw.githu... \n",
      " Licenses                         | MIT                  \n",
      " Repository URL                   | https://raw.githu... \n",
      " Versions Count                   | 0                    \n",
      " SourceRank                       | 2                    \n",
      " Latest Release Publish Timestamp | 2017-06-14 01:03:... \n",
      " Latest Release Number            | null                 \n",
      " Package Manager ID               | null                 \n",
      " Dependent Projects Count         | 0                    \n",
      " Language                         | null                 \n",
      " Status                           | null                 \n",
      " Last synced Timestamp            | 2017-06-14 01:03:... \n",
      " Dependent Repositories Count     | 0                    \n",
      " Repository ID                    | 3954                 \n",
      "-RECORD 16-----------------------------------------------\n",
      " ID                               | 17                   \n",
      " Platform                         | Alcatraz             \n",
      " Name                             | BBUDebuggerTuckAway  \n",
      " Created Timestamp                | 2015-01-11 23:56:... \n",
      " Updated Timestamp                | 2017-06-14 01:03:... \n",
      " Description                      |  Auto-hide the de... \n",
      " Keywords                         | null                 \n",
      " Homepage URL                     | https://github.co... \n",
      " Licenses                         | MIT                  \n",
      " Repository URL                   | https://github.co... \n",
      " Versions Count                   | 0                    \n",
      " SourceRank                       | 6                    \n",
      " Latest Release Publish Timestamp | 2017-06-14 01:03:... \n",
      " Latest Release Number            | null                 \n",
      " Package Manager ID               | null                 \n",
      " Dependent Projects Count         | 0                    \n",
      " Language                         | Objective-C          \n",
      " Status                           | null                 \n",
      " Last synced Timestamp            | 2017-06-14 01:03:... \n",
      " Dependent Repositories Count     | 0                    \n",
      " Repository ID                    | 4393                 \n",
      "-RECORD 17-----------------------------------------------\n",
      " ID                               | 18                   \n",
      " Platform                         | Alcatraz             \n",
      " Name                             | BBUFullIssueNavig... \n",
      " Created Timestamp                | 2015-01-11 23:56:... \n",
      " Updated Timestamp                | 2017-06-14 01:03:... \n",
      " Description                      | Show all issue co... \n",
      " Keywords                         | null                 \n",
      " Homepage URL                     | https://github.co... \n",
      " Licenses                         | MIT                  \n",
      " Repository URL                   | https://github.co... \n",
      " Versions Count                   | 0                    \n",
      " SourceRank                       | 5                    \n",
      " Latest Release Publish Timestamp | 2017-06-14 01:03:... \n",
      " Latest Release Number            | null                 \n",
      " Package Manager ID               | null                 \n",
      " Dependent Projects Count         | 0                    \n",
      " Language                         | Objective-C          \n",
      " Status                           | null                 \n",
      " Last synced Timestamp            | 2017-06-14 01:03:... \n",
      " Dependent Repositories Count     | 0                    \n",
      " Repository ID                    | 4414                 \n",
      "-RECORD 18-----------------------------------------------\n",
      " ID                               | 19                   \n",
      " Platform                         | Alcatraz             \n",
      " Name                             | BBUncrustifyPlugin   \n",
      " Created Timestamp                | 2015-01-11 23:56:... \n",
      " Updated Timestamp                | 2017-06-14 01:03:... \n",
      " Description                      | Xcode plugin to f... \n",
      " Keywords                         | null                 \n",
      " Homepage URL                     | https://github.co... \n",
      " Licenses                         | MIT                  \n",
      " Repository URL                   | https://github.co... \n",
      " Versions Count                   | 0                    \n",
      " SourceRank                       | 11                   \n",
      " Latest Release Publish Timestamp | 2016-03-24 19:31:... \n",
      " Latest Release Number            | 2.1.6                \n",
      " Package Manager ID               | null                 \n",
      " Dependent Projects Count         | 0                    \n",
      " Language                         | Objective-C          \n",
      " Status                           | null                 \n",
      " Last synced Timestamp            | 2017-06-14 01:03:... \n",
      " Dependent Repositories Count     | 0                    \n",
      " Repository ID                    | 3955                 \n",
      "-RECORD 19-----------------------------------------------\n",
      " ID                               | 20                   \n",
      " Platform                         | Alcatraz             \n",
      " Name                             | BBUToyUnboxing       \n",
      " Created Timestamp                | 2015-01-11 23:56:... \n",
      " Updated Timestamp                | 2017-06-14 01:03:... \n",
      " Description                      | Xcode 6 plugin wh... \n",
      " Keywords                         | null                 \n",
      " Homepage URL                     | https://github.co... \n",
      " Licenses                         | MIT                  \n",
      " Repository URL                   | https://github.co... \n",
      " Versions Count                   | 0                    \n",
      " SourceRank                       | 8                    \n",
      " Latest Release Publish Timestamp | 2014-07-03 16:03:... \n",
      " Latest Release Number            | 0.6                  \n",
      " Package Manager ID               | null                 \n",
      " Dependent Projects Count         | 0                    \n",
      " Language                         | Objective-C          \n",
      " Status                           | null                 \n",
      " Last synced Timestamp            | 2017-06-14 01:03:... \n",
      " Dependent Repositories Count     | 0                    \n",
      " Repository ID                    | 4370                 \n",
      "only showing top 20 rows"
     ]
    }
   ],
   "source": [
    "data.show(vertical=True)"
   ]
  },
  {
   "cell_type": "markdown",
   "metadata": {},
   "source": [
    "The rest of the lab consists of answering questions about the data. \n",
    "\n",
    "### How many packages are accounted for in this dataset?\n",
    "\n",
    "Hint: Use `count`"
   ]
  },
  {
   "cell_type": "code",
   "execution_count": 3,
   "metadata": {},
   "outputs": [
    {
     "data": {
      "application/vnd.jupyter.widget-view+json": {
       "model_id": "",
       "version_major": 2,
       "version_minor": 0
      },
      "text/plain": [
       "FloatProgress(value=0.0, bar_style='info', description='Progress:', layout=Layout(height='25px', width='50%'),…"
      ]
     },
     "metadata": {},
     "output_type": "display_data"
    },
    {
     "name": "stdout",
     "output_type": "stream",
     "text": [
      "2211516"
     ]
    }
   ],
   "source": [
    "data.count()"
   ]
  },
  {
   "cell_type": "markdown",
   "metadata": {},
   "source": [
    "### What package managers are included in the data?\n",
    "\n",
    "The package manager is in the column named 'platform'.\n",
    "\n",
    "Hint: Extract the package manager names using `select` and then use `distinct`"
   ]
  },
  {
   "cell_type": "code",
   "execution_count": 4,
   "metadata": {},
   "outputs": [
    {
     "data": {
      "application/vnd.jupyter.widget-view+json": {
       "model_id": "",
       "version_major": 2,
       "version_minor": 0
      },
      "text/plain": [
       "FloatProgress(value=0.0, bar_style='info', description='Progress:', layout=Layout(height='25px', width='50%'),…"
      ]
     },
     "metadata": {},
     "output_type": "display_data"
    }
   ],
   "source": [
    "managers = data.select('platform').distinct()"
   ]
  },
  {
   "cell_type": "markdown",
   "metadata": {},
   "source": [
    "View the results using `collect`"
   ]
  },
  {
   "cell_type": "code",
   "execution_count": 5,
   "metadata": {},
   "outputs": [
    {
     "data": {
      "application/vnd.jupyter.widget-view+json": {
       "model_id": "",
       "version_major": 2,
       "version_minor": 0
      },
      "text/plain": [
       "FloatProgress(value=0.0, bar_style='info', description='Progress:', layout=Layout(height='25px', width='50%'),…"
      ]
     },
     "metadata": {},
     "output_type": "display_data"
    },
    {
     "name": "stdout",
     "output_type": "stream",
     "text": [
      "[Row(platform='NuGet'), Row(platform='Emacs'), Row(platform='Sublime'), Row(platform='Meteor'), Row(platform='CRAN'), Row(platform='Hex'), Row(platform='Pub'), Row(platform='Clojars'), Row(platform='Maven'), Row(platform='CocoaPods'), Row(platform='NPM'), Row(platform='Bower'), Row(platform='Packagist'), Row(platform='Homebrew'), Row(platform='Atom'), Row(platform='Elm'), Row(platform='Wordpress'), Row(platform='Julia'), Row(platform='SwiftPM'), Row(platform='Jam'), Row(platform='Pypi'), Row(platform='Inqlude'), Row(platform='Haxelib'), Row(platform='CPAN'), Row(platform='Nimble'), Row(platform='Shards'), Row(platform='PlatformIO'), Row(platform='Go'), Row(platform='Alcatraz'), Row(platform='Rubygems'), Row(platform='Dub'), Row(platform='Hackage'), Row(platform='Carthage'), Row(platform='Cargo')]"
     ]
    }
   ],
   "source": [
    "managers.collect()"
   ]
  },
  {
   "cell_type": "markdown",
   "metadata": {},
   "source": [
    "### What package has the higest SourceRank?\n",
    "\n",
    "SourceRank is Libraries.io measure that combines popularity as well as how well maintained the packages is, along with a few other factors.\n",
    "\n",
    "First, use the `withColumn` method to convert SourceRank to integers.\n",
    "\n",
    "Hint: `.cast(\"double\")` can be called on a column"
   ]
  },
  {
   "cell_type": "code",
   "execution_count": 6,
   "metadata": {},
   "outputs": [
    {
     "data": {
      "application/vnd.jupyter.widget-view+json": {
       "model_id": "",
       "version_major": 2,
       "version_minor": 0
      },
      "text/plain": [
       "FloatProgress(value=0.0, bar_style='info', description='Progress:', layout=Layout(height='25px', width='50%'),…"
      ]
     },
     "metadata": {},
     "output_type": "display_data"
    }
   ],
   "source": [
    "data = data.withColumn('SourceRank', data.SourceRank.cast(\"double\"))"
   ]
  },
  {
   "cell_type": "markdown",
   "metadata": {},
   "source": [
    "Use the `agg` method to find the highest SourceRank. Call show after to see the results."
   ]
  },
  {
   "cell_type": "code",
   "execution_count": 7,
   "metadata": {},
   "outputs": [
    {
     "data": {
      "application/vnd.jupyter.widget-view+json": {
       "model_id": "",
       "version_major": 2,
       "version_minor": 0
      },
      "text/plain": [
       "FloatProgress(value=0.0, bar_style='info', description='Progress:', layout=Layout(height='25px', width='50%'),…"
      ]
     },
     "metadata": {},
     "output_type": "display_data"
    },
    {
     "name": "stdout",
     "output_type": "stream",
     "text": [
      "31.0"
     ]
    }
   ],
   "source": [
    "data.agg({'SourceRank':'max'}).collect()[0]['max(SourceRank)']"
   ]
  },
  {
   "cell_type": "markdown",
   "metadata": {},
   "source": [
    "Use `filter` to select the row of the DataFrame that has the highest SourceRank."
   ]
  },
  {
   "cell_type": "code",
   "execution_count": 8,
   "metadata": {},
   "outputs": [
    {
     "data": {
      "application/vnd.jupyter.widget-view+json": {
       "model_id": "",
       "version_major": 2,
       "version_minor": 0
      },
      "text/plain": [
       "FloatProgress(value=0.0, bar_style='info', description='Progress:', layout=Layout(height='25px', width='50%'),…"
      ]
     },
     "metadata": {},
     "output_type": "display_data"
    }
   ],
   "source": [
    "maxSR = data.filter(data.SourceRank == data.agg({'SourceRank':'max'}).collect()[0]['max(SourceRank)'])"
   ]
  },
  {
   "cell_type": "markdown",
   "metadata": {},
   "source": [
    "Use `show` to display the results."
   ]
  },
  {
   "cell_type": "code",
   "execution_count": 9,
   "metadata": {},
   "outputs": [
    {
     "data": {
      "application/vnd.jupyter.widget-view+json": {
       "model_id": "",
       "version_major": 2,
       "version_minor": 0
      },
      "text/plain": [
       "FloatProgress(value=0.0, bar_style='info', description='Progress:', layout=Layout(height='25px', width='50%'),…"
      ]
     },
     "metadata": {},
     "output_type": "display_data"
    },
    {
     "name": "stdout",
     "output_type": "stream",
     "text": [
      "+-------+--------+-------------------+--------------------+--------------------+--------------------+--------------------+--------------------+--------+--------------------+--------------+----------+--------------------------------+---------------------+------------------+------------------------+----------+------+---------------------+----------------------------+-------------+\n",
      "|     ID|Platform|               Name|   Created Timestamp|   Updated Timestamp|         Description|            Keywords|        Homepage URL|Licenses|      Repository URL|Versions Count|SourceRank|Latest Release Publish Timestamp|Latest Release Number|Package Manager ID|Dependent Projects Count|  Language|Status|Last synced Timestamp|Dependent Repositories Count|Repository ID|\n",
      "+-------+--------+-------------------+--------------------+--------------------+--------------------+--------------------+--------------------+--------+--------------------+--------------+----------+--------------------------------+---------------------+------------------+------------------------+----------+------+---------------------+----------------------------+-------------+\n",
      "| 134847|     NPM|               chai|2015-01-27 11:20:...|2017-06-14 10:32:...|BDD/TDD assertion...|test,assertion,as...|   http://chaijs.com|     MIT|https://github.co...|            69|      31.0|            2017-06-05 19:33:...|                4.0.2|              null|                   64779|JavaScript|  null| 2017-06-14 10:32:...|                      161607|          763|\n",
      "| 145391|     NPM|             eslint|2015-01-27 15:36:...|2017-06-14 14:04:...|An AST-based patt...|ast,lint,javascri...|   http://eslint.org|     MIT|https://github.co...|           162|      31.0|            2017-06-12 01:21:...|                4.0.0|              null|                   53635|JavaScript|  null| 2017-06-14 14:04:...|                      133802|        98103|\n",
      "| 167115|     NPM|             lodash|2015-01-28 01:39:...|2017-06-14 14:03:...|Lodash modular ut...| modules,stdlib,util| https://lodash.com/|     MIT|https://github.co...|           100|      31.0|            2016-12-31 22:33:...|               4.17.4|              null|                   47520|JavaScript|  null| 2017-06-14 14:03:...|                      192984|         1442|\n",
      "| 183039|Rubygems|              rails|2015-01-28 10:30:...|2017-06-13 18:59:...|Ruby on Rails is ...|                null|http://www.rubyon...|     MIT|https://github.co...|           303|      31.0|            2017-06-13 18:50:...|            4.2.9.rc1|              null|                   10319|      Ruby|  null| 2017-03-01 23:56:...|                      350417|        21734|\n",
      "| 295363|     NPM|              mocha|2015-01-29 04:49:...|2017-06-14 15:02:...|simple, flexible,...|mocha,test,bdd,td...| https://mochajs.org|     MIT|https://github.co...|           126|      31.0|            2017-05-24 16:03:...|                3.4.2|              null|                  119479|JavaScript|  null| 2017-06-14 15:02:...|                      269085|         2272|\n",
      "|1063145|     NPM|babel-preset-es2015|2015-10-29 18:30:...|2017-06-14 14:03:...|Babel preset for ...|                null| https://babeljs.io/|     MIT|https://github.co...|            33|      31.0|            2017-05-31 21:12:...|       7.0.0-alpha.12|              null|                   49127|JavaScript|  null| 2017-06-14 14:03:...|                      155043|       266462|\n",
      "+-------+--------+-------------------+--------------------+--------------------+--------------------+--------------------+--------------------+--------+--------------------+--------------+----------+--------------------------------+---------------------+------------------+------------------------+----------+------+---------------------+----------------------------+-------------+"
     ]
    }
   ],
   "source": [
    "maxSR.show()"
   ]
  },
  {
   "cell_type": "markdown",
   "metadata": {},
   "source": [
    "### What is the most frequent dependency per package manager?\n",
    "\n",
    "To answer this question, let's break it down into smaller parts. \n",
    "\n",
    "First, we need to cast the \"Dependent Repositories Count\" column to \"double\"."
   ]
  },
  {
   "cell_type": "code",
   "execution_count": 10,
   "metadata": {},
   "outputs": [
    {
     "data": {
      "application/vnd.jupyter.widget-view+json": {
       "model_id": "",
       "version_major": 2,
       "version_minor": 0
      },
      "text/plain": [
       "FloatProgress(value=0.0, bar_style='info', description='Progress:', layout=Layout(height='25px', width='50%'),…"
      ]
     },
     "metadata": {},
     "output_type": "display_data"
    }
   ],
   "source": [
    "data = data.withColumn('Dependent Repositories Count', data[\"Dependent Repositories Count\"].cast(\"double\"))"
   ]
  },
  {
   "cell_type": "markdown",
   "metadata": {},
   "source": [
    "Next, use `groupBy` and `max` to find the highest number of \"Dependent Repositories Count\" per package manager."
   ]
  },
  {
   "cell_type": "code",
   "execution_count": 11,
   "metadata": {},
   "outputs": [
    {
     "data": {
      "application/vnd.jupyter.widget-view+json": {
       "model_id": "",
       "version_major": 2,
       "version_minor": 0
      },
      "text/plain": [
       "FloatProgress(value=0.0, bar_style='info', description='Progress:', layout=Layout(height='25px', width='50%'),…"
      ]
     },
     "metadata": {},
     "output_type": "display_data"
    }
   ],
   "source": [
    "max_deps = data.groupBy('platform').max('Dependent Repositories Count')"
   ]
  },
  {
   "cell_type": "markdown",
   "metadata": {},
   "source": [
    "Use `show` to look at this data"
   ]
  },
  {
   "cell_type": "code",
   "execution_count": 12,
   "metadata": {},
   "outputs": [
    {
     "data": {
      "application/vnd.jupyter.widget-view+json": {
       "model_id": "",
       "version_major": 2,
       "version_minor": 0
      },
      "text/plain": [
       "FloatProgress(value=0.0, bar_style='info', description='Progress:', layout=Layout(height='25px', width='50%'),…"
      ]
     },
     "metadata": {},
     "output_type": "display_data"
    },
    {
     "name": "stdout",
     "output_type": "stream",
     "text": [
      "+---------+---------------------------------+\n",
      "| platform|max(Dependent Repositories Count)|\n",
      "+---------+---------------------------------+\n",
      "|    NuGet|                          63559.0|\n",
      "|    Emacs|                              0.0|\n",
      "|  Sublime|                              0.0|\n",
      "|   Meteor|                             72.0|\n",
      "|     CRAN|                           6037.0|\n",
      "|      Hex|                           5950.0|\n",
      "|      Pub|                           2972.0|\n",
      "|  Clojars|                          26779.0|\n",
      "|    Maven|                          43397.0|\n",
      "|CocoaPods|                          15781.0|\n",
      "|      NPM|                         380978.0|\n",
      "|    Bower|                         106457.0|\n",
      "|Packagist|                         122137.0|\n",
      "| Homebrew|                              0.0|\n",
      "|     Atom|                              0.0|\n",
      "|      Elm|                           4655.0|\n",
      "|Wordpress|                              0.0|\n",
      "|    Julia|                            540.0|\n",
      "|  SwiftPM|                            177.0|\n",
      "|      Jam|                              0.0|\n",
      "+---------+---------------------------------+\n",
      "only showing top 20 rows"
     ]
    }
   ],
   "source": [
    "max_deps.show()"
   ]
  },
  {
   "cell_type": "markdown",
   "metadata": {},
   "source": [
    "Notice how the column name includes the name of the aggregate function, in this case `max`. We need to remove this, so run the code below to rename the column."
   ]
  },
  {
   "cell_type": "code",
   "execution_count": 13,
   "metadata": {},
   "outputs": [
    {
     "data": {
      "application/vnd.jupyter.widget-view+json": {
       "model_id": "",
       "version_major": 2,
       "version_minor": 0
      },
      "text/plain": [
       "FloatProgress(value=0.0, bar_style='info', description='Progress:', layout=Layout(height='25px', width='50%'),…"
      ]
     },
     "metadata": {},
     "output_type": "display_data"
    }
   ],
   "source": [
    "max_deps = max_deps.withColumnRenamed(\"max(Dependent Repositories Count)\", \"Dependent Repositories Count\")"
   ]
  },
  {
   "cell_type": "markdown",
   "metadata": {},
   "source": [
    "Use `filter` to remove any package managers from `max_deps` that have a max of 0."
   ]
  },
  {
   "cell_type": "code",
   "execution_count": 14,
   "metadata": {},
   "outputs": [
    {
     "data": {
      "application/vnd.jupyter.widget-view+json": {
       "model_id": "",
       "version_major": 2,
       "version_minor": 0
      },
      "text/plain": [
       "FloatProgress(value=0.0, bar_style='info', description='Progress:', layout=Layout(height='25px', width='50%'),…"
      ]
     },
     "metadata": {},
     "output_type": "display_data"
    }
   ],
   "source": [
    "max_deps = max_deps.filter(max_deps['Dependent Repositories Count'] != 0) "
   ]
  },
  {
   "cell_type": "markdown",
   "metadata": {},
   "source": [
    "Next, use `join` to select the rows of `data` that match `max_deps`. Dont forget to specify the `on` keyword."
   ]
  },
  {
   "cell_type": "code",
   "execution_count": 15,
   "metadata": {},
   "outputs": [
    {
     "data": {
      "application/vnd.jupyter.widget-view+json": {
       "model_id": "",
       "version_major": 2,
       "version_minor": 0
      },
      "text/plain": [
       "FloatProgress(value=0.0, bar_style='info', description='Progress:', layout=Layout(height='25px', width='50%'),…"
      ]
     },
     "metadata": {},
     "output_type": "display_data"
    }
   ],
   "source": [
    "max_deps_info = data.join(max_deps, on=['Dependent Repositories Count','platform'])"
   ]
  },
  {
   "cell_type": "markdown",
   "metadata": {},
   "source": [
    "Use `select` to only retain the package manager, the package name, and the \"Dependent Repositories Count\". Call `show` after to see the results. Pass a number to `show` so that all the results are shown."
   ]
  },
  {
   "cell_type": "code",
   "execution_count": 16,
   "metadata": {},
   "outputs": [
    {
     "data": {
      "application/vnd.jupyter.widget-view+json": {
       "model_id": "",
       "version_major": 2,
       "version_minor": 0
      },
      "text/plain": [
       "FloatProgress(value=0.0, bar_style='info', description='Progress:', layout=Layout(height='25px', width='50%'),…"
      ]
     },
     "metadata": {},
     "output_type": "display_data"
    },
    {
     "name": "stdout",
     "output_type": "stream",
     "text": [
      "+---------+--------------------+----------------------------+\n",
      "| platform|                name|Dependent Repositories Count|\n",
      "+---------+--------------------+----------------------------+\n",
      "| Rubygems|                rake|                    481616.0|\n",
      "|    NuGet|     Newtonsoft.Json|                     63559.0|\n",
      "|       Go|golang.org/x/net/...|                      5379.0|\n",
      "|      Dub|              vibe-d|                       203.0|\n",
      "|      Elm|       elm-lang/core|                      4655.0|\n",
      "|      Hex|              poison|                      5950.0|\n",
      "|   Shards|               radix|                        66.0|\n",
      "|CocoaPods|        AFNetworking|                     15781.0|\n",
      "|    Bower|              jQuery|                    106457.0|\n",
      "|Packagist|     phpunit/phpunit|                    122137.0|\n",
      "|    Julia|              Compat|                       540.0|\n",
      "|    Cargo|                libc|                      6922.0|\n",
      "|     Pypi|            requests|                     71110.0|\n",
      "| Carthage|        Quick/Nimble|                      1246.0|\n",
      "|      Pub|             browser|                      2972.0|\n",
      "|  Clojars| org.clojure/clojure|                     26779.0|\n",
      "|    Maven|javax.servlet:ser...|                     43397.0|\n",
      "|     CPAN|                perl|                      2723.0|\n",
      "|      NPM|             express|                    380978.0|\n",
      "|   Meteor|              meteor|                        72.0|\n",
      "+---------+--------------------+----------------------------+\n",
      "only showing top 20 rows"
     ]
    }
   ],
   "source": [
    "max_deps_info.select('platform','name','Dependent Repositories Count').show()"
   ]
  },
  {
   "cell_type": "markdown",
   "metadata": {},
   "source": [
    "### Who is the most proflific owner of packages per package manager?\n",
    "\n",
    "For this next question, we need to consult the second file, which is detailed information about where and who develops each package. Reading in the data will be very similar to as was done above."
   ]
  },
  {
   "cell_type": "code",
   "execution_count": 17,
   "metadata": {},
   "outputs": [
    {
     "data": {
      "application/vnd.jupyter.widget-view+json": {
       "model_id": "",
       "version_major": 2,
       "version_minor": 0
      },
      "text/plain": [
       "FloatProgress(value=0.0, bar_style='info', description='Progress:', layout=Layout(height='25px', width='50%'),…"
      ]
     },
     "metadata": {},
     "output_type": "display_data"
    }
   ],
   "source": [
    "repos_data = spark.read.csv(\"hdfs:///data/repositories-1.0.0-2017-06-15.csv\",header=True, inferSchema=True)"
   ]
  },
  {
   "cell_type": "markdown",
   "metadata": {},
   "source": [
    "To extract the owner into its own column, we are going to use the function `regexp_extract`."
   ]
  },
  {
   "cell_type": "code",
   "execution_count": 18,
   "metadata": {},
   "outputs": [
    {
     "data": {
      "application/vnd.jupyter.widget-view+json": {
       "model_id": "",
       "version_major": 2,
       "version_minor": 0
      },
      "text/plain": [
       "FloatProgress(value=0.0, bar_style='info', description='Progress:', layout=Layout(height='25px', width='50%'),…"
      ]
     },
     "metadata": {},
     "output_type": "display_data"
    }
   ],
   "source": [
    "from pyspark.sql.functions import regexp_extract"
   ]
  },
  {
   "cell_type": "code",
   "execution_count": 19,
   "metadata": {},
   "outputs": [
    {
     "data": {
      "application/vnd.jupyter.widget-view+json": {
       "model_id": "",
       "version_major": 2,
       "version_minor": 0
      },
      "text/plain": [
       "FloatProgress(value=0.0, bar_style='info', description='Progress:', layout=Layout(height='25px', width='50%'),…"
      ]
     },
     "metadata": {},
     "output_type": "display_data"
    }
   ],
   "source": [
    "repos_data = repos_data.withColumn('owner', regexp_extract(repos_data[\"Name With Owner\"],\"(.*)/\",0))"
   ]
  },
  {
   "cell_type": "markdown",
   "metadata": {},
   "source": [
    "Next, use `join` to create a joined DataFrame. The columns to join on are \"ID\" from `repos_data`, and \"Repository ID\" from `data`."
   ]
  },
  {
   "cell_type": "code",
   "execution_count": 20,
   "metadata": {},
   "outputs": [
    {
     "data": {
      "application/vnd.jupyter.widget-view+json": {
       "model_id": "",
       "version_major": 2,
       "version_minor": 0
      },
      "text/plain": [
       "FloatProgress(value=0.0, bar_style='info', description='Progress:', layout=Layout(height='25px', width='50%'),…"
      ]
     },
     "metadata": {},
     "output_type": "display_data"
    }
   ],
   "source": [
    "joined = repos_data.join(data, on =  data['Repository ID'] == repos_data['ID'])"
   ]
  },
  {
   "cell_type": "markdown",
   "metadata": {},
   "source": [
    "Now that we have the package owner information joined with the package, use `groupby` and `count` to see how many packages each owner has per package manager.\n",
    "\n",
    "The relevant columns are \"Platform\" and \"owner\".\n",
    "\n",
    "Hint: `groupBy` can take more than one column to group on"
   ]
  },
  {
   "cell_type": "code",
   "execution_count": 21,
   "metadata": {},
   "outputs": [
    {
     "data": {
      "application/vnd.jupyter.widget-view+json": {
       "model_id": "",
       "version_major": 2,
       "version_minor": 0
      },
      "text/plain": [
       "FloatProgress(value=0.0, bar_style='info', description='Progress:', layout=Layout(height='25px', width='50%'),…"
      ]
     },
     "metadata": {},
     "output_type": "display_data"
    }
   ],
   "source": [
    "counts = joined.groupby('Platform','owner').count()"
   ]
  },
  {
   "cell_type": "markdown",
   "metadata": {},
   "source": [
    "Next we need to deterimine the max count per platform. Do this using `groupby` and `max`."
   ]
  },
  {
   "cell_type": "code",
   "execution_count": 22,
   "metadata": {},
   "outputs": [
    {
     "data": {
      "application/vnd.jupyter.widget-view+json": {
       "model_id": "",
       "version_major": 2,
       "version_minor": 0
      },
      "text/plain": [
       "FloatProgress(value=0.0, bar_style='info', description='Progress:', layout=Layout(height='25px', width='50%'),…"
      ]
     },
     "metadata": {},
     "output_type": "display_data"
    }
   ],
   "source": [
    "max_count = counts.groupby('Platform').max('count')"
   ]
  },
  {
   "cell_type": "markdown",
   "metadata": {},
   "source": [
    "Like before, we want to remove the name of the function from the column name, so run the code below to rename it."
   ]
  },
  {
   "cell_type": "code",
   "execution_count": 23,
   "metadata": {},
   "outputs": [
    {
     "data": {
      "application/vnd.jupyter.widget-view+json": {
       "model_id": "",
       "version_major": 2,
       "version_minor": 0
      },
      "text/plain": [
       "FloatProgress(value=0.0, bar_style='info', description='Progress:', layout=Layout(height='25px', width='50%'),…"
      ]
     },
     "metadata": {},
     "output_type": "display_data"
    }
   ],
   "source": [
    "max_count = max_count.withColumnRenamed(\"max(count)\",\"count\")"
   ]
  },
  {
   "cell_type": "markdown",
   "metadata": {},
   "source": [
    "Now, the owner with the most packages per package manager can be found by using `join` on `counts` and `max_count`.\n",
    "\n",
    "Call `show` after joining to see the results. "
   ]
  },
  {
   "cell_type": "code",
   "execution_count": 24,
   "metadata": {},
   "outputs": [
    {
     "data": {
      "application/vnd.jupyter.widget-view+json": {
       "model_id": "",
       "version_major": 2,
       "version_minor": 0
      },
      "text/plain": [
       "FloatProgress(value=0.0, bar_style='info', description='Progress:', layout=Layout(height='25px', width='50%'),…"
      ]
     },
     "metadata": {},
     "output_type": "display_data"
    },
    {
     "name": "stdout",
     "output_type": "stream",
     "text": [
      "+---------+-----+-----------------+\n",
      "| Platform|count|            owner|\n",
      "+---------+-----+-----------------+\n",
      "|    Cargo|  428|        retep998/|\n",
      "|   Meteor|  110|          rzymek/|\n",
      "|      Hex|   35|  nerves-project/|\n",
      "|    NuGet|  360|             aws/|\n",
      "| Homebrew|   19|          google/|\n",
      "|    Julia|   28|      JuliaStats/|\n",
      "|      Dub|   25|     DerelictOrg/|\n",
      "|     CRAN|  117|        ropensci/|\n",
      "|    Emacs|   45|          syohex/|\n",
      "|   Shards|    7|      ysbaddaden/|\n",
      "|      Elm|   51|   elm-community/|\n",
      "|CocoaPods|   50|    nicklockwood/|\n",
      "|CocoaPods|   50|       hyperoslo/|\n",
      "|  Haxelib|   35|      haxe-react/|\n",
      "|    Maven|  979|        kiegroup/|\n",
      "|      Pub|  245|       dart-lang/|\n",
      "|     Pypi|  357|      collective/|\n",
      "| Rubygems|  301|      jrobertson/|\n",
      "|Packagist|  212|thecodingmachine/|\n",
      "|      Jam|   56|        aureooms/|\n",
      "+---------+-----+-----------------+\n",
      "only showing top 20 rows"
     ]
    }
   ],
   "source": [
    "max_count.join(counts,on=['Platform','count']).show()"
   ]
  },
  {
   "cell_type": "markdown",
   "metadata": {},
   "source": [
    "### What is the correlation between number of github stars and number of times a package is listed as a dependency?"
   ]
  },
  {
   "cell_type": "markdown",
   "metadata": {},
   "source": [
    "Once again we will be working with the joined DataFrame we made in the previous section. \n",
    "\n",
    "First convert the \"Stars Count\" column to a double using the `withColumn` and `cast` functions."
   ]
  },
  {
   "cell_type": "code",
   "execution_count": 25,
   "metadata": {},
   "outputs": [
    {
     "data": {
      "application/vnd.jupyter.widget-view+json": {
       "model_id": "",
       "version_major": 2,
       "version_minor": 0
      },
      "text/plain": [
       "FloatProgress(value=0.0, bar_style='info', description='Progress:', layout=Layout(height='25px', width='50%'),…"
      ]
     },
     "metadata": {},
     "output_type": "display_data"
    }
   ],
   "source": [
    "joined = joined.withColumn('Stars Count', joined['Stars Count'].cast(\"double\"))"
   ]
  },
  {
   "cell_type": "markdown",
   "metadata": {},
   "source": [
    "Now call `corr` on the DataFrame, passing it the correct column names."
   ]
  },
  {
   "cell_type": "code",
   "execution_count": 26,
   "metadata": {},
   "outputs": [
    {
     "data": {
      "application/vnd.jupyter.widget-view+json": {
       "model_id": "",
       "version_major": 2,
       "version_minor": 0
      },
      "text/plain": [
       "FloatProgress(value=0.0, bar_style='info', description='Progress:', layout=Layout(height='25px', width='50%'),…"
      ]
     },
     "metadata": {},
     "output_type": "display_data"
    },
    {
     "name": "stdout",
     "output_type": "stream",
     "text": [
      "0.0662784659838636"
     ]
    }
   ],
   "source": [
    "joined.corr('Stars Count', 'Dependent Repositories Count')"
   ]
  },
  {
   "cell_type": "markdown",
   "metadata": {},
   "source": [
    "### Which package names are found in both npm and pypi\n",
    "For the final question, we are going to use set operations.\n",
    "\n",
    "First we need to find the packages in pypi and the packages in NPM.\n",
    "\n",
    "Use `filter` to find all the elements of the DataFrame whose \"Platform\" is equal to \"Pypi\""
   ]
  },
  {
   "cell_type": "code",
   "execution_count": 27,
   "metadata": {},
   "outputs": [
    {
     "data": {
      "application/vnd.jupyter.widget-view+json": {
       "model_id": "",
       "version_major": 2,
       "version_minor": 0
      },
      "text/plain": [
       "FloatProgress(value=0.0, bar_style='info', description='Progress:', layout=Layout(height='25px', width='50%'),…"
      ]
     },
     "metadata": {},
     "output_type": "display_data"
    }
   ],
   "source": [
    "pypi = data.filter(data['Platform'] == \"Pypi\")"
   ]
  },
  {
   "cell_type": "markdown",
   "metadata": {},
   "source": [
    "Use `filter` to find all the elements of the DataFrame whose \"Platform\" is equal to \"NPM\"."
   ]
  },
  {
   "cell_type": "code",
   "execution_count": 28,
   "metadata": {},
   "outputs": [
    {
     "data": {
      "application/vnd.jupyter.widget-view+json": {
       "model_id": "",
       "version_major": 2,
       "version_minor": 0
      },
      "text/plain": [
       "FloatProgress(value=0.0, bar_style='info', description='Progress:', layout=Layout(height='25px', width='50%'),…"
      ]
     },
     "metadata": {},
     "output_type": "display_data"
    }
   ],
   "source": [
    "npm = data.filter(data['Platform'] == \"NPM\")"
   ]
  },
  {
   "cell_type": "markdown",
   "metadata": {},
   "source": [
    "Now use `select` to get only the names of the packages in PyPi."
   ]
  },
  {
   "cell_type": "code",
   "execution_count": 29,
   "metadata": {},
   "outputs": [
    {
     "data": {
      "application/vnd.jupyter.widget-view+json": {
       "model_id": "",
       "version_major": 2,
       "version_minor": 0
      },
      "text/plain": [
       "FloatProgress(value=0.0, bar_style='info', description='Progress:', layout=Layout(height='25px', width='50%'),…"
      ]
     },
     "metadata": {},
     "output_type": "display_data"
    }
   ],
   "source": [
    "pypi_names = pypi.select(\"name\")"
   ]
  },
  {
   "cell_type": "markdown",
   "metadata": {},
   "source": [
    "Now use `select` to get only the names of the packages in NPM."
   ]
  },
  {
   "cell_type": "code",
   "execution_count": 30,
   "metadata": {},
   "outputs": [
    {
     "data": {
      "application/vnd.jupyter.widget-view+json": {
       "model_id": "",
       "version_major": 2,
       "version_minor": 0
      },
      "text/plain": [
       "FloatProgress(value=0.0, bar_style='info', description='Progress:', layout=Layout(height='25px', width='50%'),…"
      ]
     },
     "metadata": {},
     "output_type": "display_data"
    }
   ],
   "source": [
    "npm_names = npm.select(\"name\")"
   ]
  },
  {
   "cell_type": "markdown",
   "metadata": {},
   "source": [
    "Use `intersect` to get the names that appear in both."
   ]
  },
  {
   "cell_type": "code",
   "execution_count": 31,
   "metadata": {},
   "outputs": [
    {
     "data": {
      "application/vnd.jupyter.widget-view+json": {
       "model_id": "",
       "version_major": 2,
       "version_minor": 0
      },
      "text/plain": [
       "FloatProgress(value=0.0, bar_style='info', description='Progress:', layout=Layout(height='25px', width='50%'),…"
      ]
     },
     "metadata": {},
     "output_type": "display_data"
    }
   ],
   "source": [
    "intersection = npm_names.intersect(pypi_names)"
   ]
  },
  {
   "cell_type": "markdown",
   "metadata": {},
   "source": [
    "View the names that appear in both by calling `show`."
   ]
  },
  {
   "cell_type": "code",
   "execution_count": 32,
   "metadata": {},
   "outputs": [
    {
     "data": {
      "application/vnd.jupyter.widget-view+json": {
       "model_id": "",
       "version_major": 2,
       "version_minor": 0
      },
      "text/plain": [
       "FloatProgress(value=0.0, bar_style='info', description='Progress:', layout=Layout(height='25px', width='50%'),…"
      ]
     },
     "metadata": {},
     "output_type": "display_data"
    },
    {
     "name": "stdout",
     "output_type": "stream",
     "text": [
      "+--------------------+\n",
      "|                name|\n",
      "+--------------------+\n",
      "|               anime|\n",
      "|           arguments|\n",
      "|             bitlist|\n",
      "|           bookshelf|\n",
      "|                 bsw|\n",
      "|           carbonate|\n",
      "|                clog|\n",
      "|cloudfront-log-pa...|\n",
      "|            collectd|\n",
      "|               crest|\n",
      "|                 dbt|\n",
      "|                earl|\n",
      "|                elsa|\n",
      "|                foxy|\n",
      "|                 gir|\n",
      "|                guts|\n",
      "|            habanero|\n",
      "|              honcho|\n",
      "|                hope|\n",
      "|                 hud|\n",
      "+--------------------+\n",
      "only showing top 20 rows"
     ]
    }
   ],
   "source": [
    "intersection.show()"
   ]
  },
  {
   "cell_type": "code",
   "execution_count": null,
   "metadata": {},
   "outputs": [],
   "source": []
  }
 ],
 "metadata": {
  "kernelspec": {
   "display_name": "PySpark",
   "language": "",
   "name": "pysparkkernel"
  },
  "language_info": {
   "codemirror_mode": {
    "name": "python",
    "version": 2
   },
   "mimetype": "text/x-python",
   "name": "pyspark",
   "pygments_lexer": "python2"
  }
 },
 "nbformat": 4,
 "nbformat_minor": 2
}
