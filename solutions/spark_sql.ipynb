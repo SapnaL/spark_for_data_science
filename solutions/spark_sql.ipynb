{
 "cells": [
  {
   "cell_type": "markdown",
   "metadata": {},
   "source": [
    "# SparkSQL Lab\n",
    "\n",
    "In this lab, we will be working with data from [Libraries.io](http://Libraries.io), a package manager aggregator. Our data consist of two files, one detailing packages and package managers, the other detailing the code repositories the packages are developed in. "
   ]
  },
  {
   "cell_type": "code",
   "execution_count": 1,
   "metadata": {},
   "outputs": [
    {
     "name": "stdout",
     "output_type": "stream",
     "text": [
      "Starting Spark application\n"
     ]
    },
    {
     "data": {
      "text/html": [
       "<table>\n",
       "<tr><th>ID</th><th>YARN Application ID</th><th>Kind</th><th>State</th><th>Spark UI</th><th>Driver log</th><th>Current session?</th></tr><tr><td>19</td><td>application_1566055793802_0017</td><td>pyspark</td><td>idle</td><td><a target=\"_blank\" href=\"http://spark-training-primary.umbctraining.com:8088/proxy/application_1566055793802_0017/\">Link</a></td><td><a target=\"_blank\" href=\"http://spark-training-slave-03.umbctraining.com:8042/node/containerlogs/container_e04_1566055793802_0017_01_000001/livy\">Link</a></td><td>✔</td></tr></table>"
      ],
      "text/plain": [
       "<IPython.core.display.HTML object>"
      ]
     },
     "metadata": {},
     "output_type": "display_data"
    },
    {
     "data": {
      "application/vnd.jupyter.widget-view+json": {
       "model_id": "",
       "version_major": 2,
       "version_minor": 0
      },
      "text/plain": [
       "FloatProgress(value=0.0, bar_style='info', description='Progress:', layout=Layout(height='25px', width='50%'),…"
      ]
     },
     "metadata": {},
     "output_type": "display_data"
    },
    {
     "name": "stdout",
     "output_type": "stream",
     "text": [
      "SparkSession available as 'spark'.\n"
     ]
    },
    {
     "data": {
      "application/vnd.jupyter.widget-view+json": {
       "model_id": "",
       "version_major": 2,
       "version_minor": 0
      },
      "text/plain": [
       "FloatProgress(value=0.0, bar_style='info', description='Progress:', layout=Layout(height='25px', width='50%'),…"
      ]
     },
     "metadata": {},
     "output_type": "display_data"
    }
   ],
   "source": [
    "data = spark.read.csv(\"hdfs:///data/projects-1.0.0-2017-06-15.csv\",header=True, inferSchema=True, mode=\"DROPMALFORMED\")"
   ]
  },
  {
   "cell_type": "code",
   "execution_count": 2,
   "metadata": {},
   "outputs": [
    {
     "data": {
      "application/vnd.jupyter.widget-view+json": {
       "model_id": "",
       "version_major": 2,
       "version_minor": 0
      },
      "text/plain": [
       "FloatProgress(value=0.0, bar_style='info', description='Progress:', layout=Layout(height='25px', width='50%'),…"
      ]
     },
     "metadata": {},
     "output_type": "display_data"
    }
   ],
   "source": [
    "data = data.withColumn('SourceRank', data.SourceRank.cast(\"double\"))\n",
    "data = data.withColumn('Dependent Repositories Count', data[\"Dependent Repositories Count\"].cast(\"double\"))"
   ]
  },
  {
   "cell_type": "markdown",
   "metadata": {},
   "source": [
    "Make the data available to SQL using `createTempView`"
   ]
  },
  {
   "cell_type": "code",
   "execution_count": 3,
   "metadata": {},
   "outputs": [
    {
     "data": {
      "application/vnd.jupyter.widget-view+json": {
       "model_id": "",
       "version_major": 2,
       "version_minor": 0
      },
      "text/plain": [
       "FloatProgress(value=0.0, bar_style='info', description='Progress:', layout=Layout(height='25px', width='50%'),…"
      ]
     },
     "metadata": {},
     "output_type": "display_data"
    }
   ],
   "source": [
    "data.createTempView('data')"
   ]
  },
  {
   "cell_type": "markdown",
   "metadata": {},
   "source": [
    "The rest of the lab consists of answering questions about the data. \n",
    "\n",
    "### How many packages are accounted for in this dataset?\n",
    "\n",
    "Hint: Use `count`"
   ]
  },
  {
   "cell_type": "code",
   "execution_count": 4,
   "metadata": {},
   "outputs": [
    {
     "data": {
      "application/vnd.jupyter.widget-view+json": {
       "model_id": "",
       "version_major": 2,
       "version_minor": 0
      },
      "text/plain": [
       "FloatProgress(value=0.0, bar_style='info', description='Progress:', layout=Layout(height='25px', width='50%'),…"
      ]
     },
     "metadata": {},
     "output_type": "display_data"
    },
    {
     "name": "stdout",
     "output_type": "stream",
     "text": [
      "+--------+\n",
      "|count(1)|\n",
      "+--------+\n",
      "| 2211516|\n",
      "+--------+"
     ]
    }
   ],
   "source": [
    "spark.sql(\"SELECT count(*) FROM data\").show()"
   ]
  },
  {
   "cell_type": "markdown",
   "metadata": {},
   "source": [
    "### What package managers are included in the data?\n",
    "\n",
    "The package manager is in the column named 'platform'\n",
    "\n",
    "Hint: `DISTINCT` can be used right in a `SELECT` statement"
   ]
  },
  {
   "cell_type": "code",
   "execution_count": 5,
   "metadata": {},
   "outputs": [
    {
     "data": {
      "application/vnd.jupyter.widget-view+json": {
       "model_id": "",
       "version_major": 2,
       "version_minor": 0
      },
      "text/plain": [
       "FloatProgress(value=0.0, bar_style='info', description='Progress:', layout=Layout(height='25px', width='50%'),…"
      ]
     },
     "metadata": {},
     "output_type": "display_data"
    }
   ],
   "source": [
    "managers = spark.sql(\"SELECT DISTINCT platform from data\")"
   ]
  },
  {
   "cell_type": "markdown",
   "metadata": {},
   "source": [
    "View the results using `collect`"
   ]
  },
  {
   "cell_type": "code",
   "execution_count": 6,
   "metadata": {},
   "outputs": [
    {
     "data": {
      "application/vnd.jupyter.widget-view+json": {
       "model_id": "",
       "version_major": 2,
       "version_minor": 0
      },
      "text/plain": [
       "FloatProgress(value=0.0, bar_style='info', description='Progress:', layout=Layout(height='25px', width='50%'),…"
      ]
     },
     "metadata": {},
     "output_type": "display_data"
    },
    {
     "name": "stdout",
     "output_type": "stream",
     "text": [
      "[Row(platform='NuGet'), Row(platform='Emacs'), Row(platform='Sublime'), Row(platform='Meteor'), Row(platform='CRAN'), Row(platform='Hex'), Row(platform='Pub'), Row(platform='Clojars'), Row(platform='Maven'), Row(platform='CocoaPods'), Row(platform='NPM'), Row(platform='Bower'), Row(platform='Packagist'), Row(platform='Homebrew'), Row(platform='Atom'), Row(platform='Elm'), Row(platform='Wordpress'), Row(platform='Julia'), Row(platform='SwiftPM'), Row(platform='Jam'), Row(platform='Pypi'), Row(platform='Inqlude'), Row(platform='Haxelib'), Row(platform='CPAN'), Row(platform='Nimble'), Row(platform='Shards'), Row(platform='PlatformIO'), Row(platform='Go'), Row(platform='Alcatraz'), Row(platform='Rubygems'), Row(platform='Dub'), Row(platform='Hackage'), Row(platform='Carthage'), Row(platform='Cargo')]"
     ]
    }
   ],
   "source": [
    "managers.collect()"
   ]
  },
  {
   "cell_type": "markdown",
   "metadata": {},
   "source": [
    "### What package has the higest SourceRank?\n",
    "\n",
    "SourceRank is Libraries.io measure that combines popularity as well as how well maintained the packages is, along with a few other factors\n",
    "\n",
    "Use `max` to find the largest SourceRank"
   ]
  },
  {
   "cell_type": "code",
   "execution_count": 7,
   "metadata": {},
   "outputs": [
    {
     "data": {
      "application/vnd.jupyter.widget-view+json": {
       "model_id": "",
       "version_major": 2,
       "version_minor": 0
      },
      "text/plain": [
       "FloatProgress(value=0.0, bar_style='info', description='Progress:', layout=Layout(height='25px', width='50%'),…"
      ]
     },
     "metadata": {},
     "output_type": "display_data"
    },
    {
     "name": "stdout",
     "output_type": "stream",
     "text": [
      "+---------------+\n",
      "|max(SourceRank)|\n",
      "+---------------+\n",
      "|           31.0|\n",
      "+---------------+"
     ]
    }
   ],
   "source": [
    "spark.sql(\"SELECT max(SourceRank)from data\").show()"
   ]
  },
  {
   "cell_type": "markdown",
   "metadata": {},
   "source": [
    "Use a `WHERE` clause to select the row of the DataFrame that has the highest SourceRank"
   ]
  },
  {
   "cell_type": "code",
   "execution_count": 8,
   "metadata": {},
   "outputs": [
    {
     "data": {
      "application/vnd.jupyter.widget-view+json": {
       "model_id": "",
       "version_major": 2,
       "version_minor": 0
      },
      "text/plain": [
       "FloatProgress(value=0.0, bar_style='info', description='Progress:', layout=Layout(height='25px', width='50%'),…"
      ]
     },
     "metadata": {},
     "output_type": "display_data"
    }
   ],
   "source": [
    "maxSR = spark.sql(\"SELECT * FROM data WHERE SourceRank = 31\")"
   ]
  },
  {
   "cell_type": "markdown",
   "metadata": {},
   "source": [
    "Use `show` to display the results "
   ]
  },
  {
   "cell_type": "code",
   "execution_count": 9,
   "metadata": {},
   "outputs": [
    {
     "data": {
      "application/vnd.jupyter.widget-view+json": {
       "model_id": "",
       "version_major": 2,
       "version_minor": 0
      },
      "text/plain": [
       "FloatProgress(value=0.0, bar_style='info', description='Progress:', layout=Layout(height='25px', width='50%'),…"
      ]
     },
     "metadata": {},
     "output_type": "display_data"
    },
    {
     "name": "stdout",
     "output_type": "stream",
     "text": [
      "+-------+--------+-------------------+--------------------+--------------------+--------------------+--------------------+--------------------+--------+--------------------+--------------+----------+--------------------------------+---------------------+------------------+------------------------+----------+------+---------------------+----------------------------+-------------+\n",
      "|     ID|Platform|               Name|   Created Timestamp|   Updated Timestamp|         Description|            Keywords|        Homepage URL|Licenses|      Repository URL|Versions Count|SourceRank|Latest Release Publish Timestamp|Latest Release Number|Package Manager ID|Dependent Projects Count|  Language|Status|Last synced Timestamp|Dependent Repositories Count|Repository ID|\n",
      "+-------+--------+-------------------+--------------------+--------------------+--------------------+--------------------+--------------------+--------+--------------------+--------------+----------+--------------------------------+---------------------+------------------+------------------------+----------+------+---------------------+----------------------------+-------------+\n",
      "| 134847|     NPM|               chai|2015-01-27 11:20:...|2017-06-14 10:32:...|BDD/TDD assertion...|test,assertion,as...|   http://chaijs.com|     MIT|https://github.co...|            69|      31.0|            2017-06-05 19:33:...|                4.0.2|              null|                   64779|JavaScript|  null| 2017-06-14 10:32:...|                    161607.0|          763|\n",
      "| 145391|     NPM|             eslint|2015-01-27 15:36:...|2017-06-14 14:04:...|An AST-based patt...|ast,lint,javascri...|   http://eslint.org|     MIT|https://github.co...|           162|      31.0|            2017-06-12 01:21:...|                4.0.0|              null|                   53635|JavaScript|  null| 2017-06-14 14:04:...|                    133802.0|        98103|\n",
      "| 167115|     NPM|             lodash|2015-01-28 01:39:...|2017-06-14 14:03:...|Lodash modular ut...| modules,stdlib,util| https://lodash.com/|     MIT|https://github.co...|           100|      31.0|            2016-12-31 22:33:...|               4.17.4|              null|                   47520|JavaScript|  null| 2017-06-14 14:03:...|                    192984.0|         1442|\n",
      "| 183039|Rubygems|              rails|2015-01-28 10:30:...|2017-06-13 18:59:...|Ruby on Rails is ...|                null|http://www.rubyon...|     MIT|https://github.co...|           303|      31.0|            2017-06-13 18:50:...|            4.2.9.rc1|              null|                   10319|      Ruby|  null| 2017-03-01 23:56:...|                    350417.0|        21734|\n",
      "| 295363|     NPM|              mocha|2015-01-29 04:49:...|2017-06-14 15:02:...|simple, flexible,...|mocha,test,bdd,td...| https://mochajs.org|     MIT|https://github.co...|           126|      31.0|            2017-05-24 16:03:...|                3.4.2|              null|                  119479|JavaScript|  null| 2017-06-14 15:02:...|                    269085.0|         2272|\n",
      "|1063145|     NPM|babel-preset-es2015|2015-10-29 18:30:...|2017-06-14 14:03:...|Babel preset for ...|                null| https://babeljs.io/|     MIT|https://github.co...|            33|      31.0|            2017-05-31 21:12:...|       7.0.0-alpha.12|              null|                   49127|JavaScript|  null| 2017-06-14 14:03:...|                    155043.0|       266462|\n",
      "+-------+--------+-------------------+--------------------+--------------------+--------------------+--------------------+--------------------+--------+--------------------+--------------+----------+--------------------------------+---------------------+------------------+------------------------+----------+------+---------------------+----------------------------+-------------+"
     ]
    }
   ],
   "source": [
    "maxSR.show()"
   ]
  },
  {
   "cell_type": "markdown",
   "metadata": {},
   "source": [
    "### What is the most frequent dependency per package manager?\n",
    "\n",
    "To answer this question, let's break it down into smaller parts. "
   ]
  },
  {
   "cell_type": "markdown",
   "metadata": {},
   "source": [
    "Next use `groupBy` and `max` to find the highest number of \"Dependent Repositories Count\" per package manager"
   ]
  },
  {
   "cell_type": "code",
   "execution_count": 10,
   "metadata": {},
   "outputs": [
    {
     "data": {
      "application/vnd.jupyter.widget-view+json": {
       "model_id": "",
       "version_major": 2,
       "version_minor": 0
      },
      "text/plain": [
       "FloatProgress(value=0.0, bar_style='info', description='Progress:', layout=Layout(height='25px', width='50%'),…"
      ]
     },
     "metadata": {},
     "output_type": "display_data"
    }
   ],
   "source": [
    "max_deps = spark.sql('SELECT platform, max(`Dependent Repositories Count`) FROM data GROUP BY platform')"
   ]
  },
  {
   "cell_type": "markdown",
   "metadata": {},
   "source": [
    "Use `show` to look at this data"
   ]
  },
  {
   "cell_type": "code",
   "execution_count": 11,
   "metadata": {},
   "outputs": [
    {
     "data": {
      "application/vnd.jupyter.widget-view+json": {
       "model_id": "",
       "version_major": 2,
       "version_minor": 0
      },
      "text/plain": [
       "FloatProgress(value=0.0, bar_style='info', description='Progress:', layout=Layout(height='25px', width='50%'),…"
      ]
     },
     "metadata": {},
     "output_type": "display_data"
    },
    {
     "name": "stdout",
     "output_type": "stream",
     "text": [
      "+---------+---------------------------------+\n",
      "| platform|max(Dependent Repositories Count)|\n",
      "+---------+---------------------------------+\n",
      "|    NuGet|                          63559.0|\n",
      "|    Emacs|                              0.0|\n",
      "|  Sublime|                              0.0|\n",
      "|   Meteor|                             72.0|\n",
      "|     CRAN|                           6037.0|\n",
      "|      Hex|                           5950.0|\n",
      "|      Pub|                           2972.0|\n",
      "|  Clojars|                          26779.0|\n",
      "|    Maven|                          43397.0|\n",
      "|CocoaPods|                          15781.0|\n",
      "|      NPM|                         380978.0|\n",
      "|    Bower|                         106457.0|\n",
      "|Packagist|                         122137.0|\n",
      "| Homebrew|                              0.0|\n",
      "|     Atom|                              0.0|\n",
      "|      Elm|                           4655.0|\n",
      "|Wordpress|                              0.0|\n",
      "|    Julia|                            540.0|\n",
      "|  SwiftPM|                            177.0|\n",
      "|      Jam|                              0.0|\n",
      "+---------+---------------------------------+\n",
      "only showing top 20 rows"
     ]
    }
   ],
   "source": [
    "max_deps.show()"
   ]
  },
  {
   "cell_type": "markdown",
   "metadata": {},
   "source": [
    "Notice how the column name includes the name of the aggregate function, in this case `max`. Re-write the query above using `AS` so this doesn't happen"
   ]
  },
  {
   "cell_type": "code",
   "execution_count": 12,
   "metadata": {},
   "outputs": [
    {
     "data": {
      "application/vnd.jupyter.widget-view+json": {
       "model_id": "",
       "version_major": 2,
       "version_minor": 0
      },
      "text/plain": [
       "FloatProgress(value=0.0, bar_style='info', description='Progress:', layout=Layout(height='25px', width='50%'),…"
      ]
     },
     "metadata": {},
     "output_type": "display_data"
    }
   ],
   "source": [
    "max_deps = spark.sql('SELECT platform, max(`Dependent Repositories Count`) AS `Dependent Repositories Count` FROM data GROUP BY platform')"
   ]
  },
  {
   "cell_type": "markdown",
   "metadata": {},
   "source": [
    "Use the above query as a subquery, and filter out any rows that have a \"Dependent Repositories Count\" of 0"
   ]
  },
  {
   "cell_type": "code",
   "execution_count": 13,
   "metadata": {},
   "outputs": [
    {
     "data": {
      "application/vnd.jupyter.widget-view+json": {
       "model_id": "",
       "version_major": 2,
       "version_minor": 0
      },
      "text/plain": [
       "FloatProgress(value=0.0, bar_style='info', description='Progress:', layout=Layout(height='25px', width='50%'),…"
      ]
     },
     "metadata": {},
     "output_type": "display_data"
    }
   ],
   "source": [
    "max_deps = spark.sql('SELECT platform,`Dependent Repositories Count` FROM (SELECT platform, max(`Dependent Repositories Count`) AS `Dependent Repositories Count` FROM data GROUP BY platform) WHERE `Dependent Repositories Count` != 0')"
   ]
  },
  {
   "cell_type": "markdown",
   "metadata": {},
   "source": [
    "Check your work using `show`"
   ]
  },
  {
   "cell_type": "code",
   "execution_count": 14,
   "metadata": {},
   "outputs": [
    {
     "data": {
      "application/vnd.jupyter.widget-view+json": {
       "model_id": "",
       "version_major": 2,
       "version_minor": 0
      },
      "text/plain": [
       "FloatProgress(value=0.0, bar_style='info', description='Progress:', layout=Layout(height='25px', width='50%'),…"
      ]
     },
     "metadata": {},
     "output_type": "display_data"
    },
    {
     "name": "stdout",
     "output_type": "stream",
     "text": [
      "+---------+----------------------------+\n",
      "| platform|Dependent Repositories Count|\n",
      "+---------+----------------------------+\n",
      "|    NuGet|                     63559.0|\n",
      "|   Meteor|                        72.0|\n",
      "|     CRAN|                      6037.0|\n",
      "|      Hex|                      5950.0|\n",
      "|      Pub|                      2972.0|\n",
      "|  Clojars|                     26779.0|\n",
      "|    Maven|                     43397.0|\n",
      "|CocoaPods|                     15781.0|\n",
      "|      NPM|                    380978.0|\n",
      "|    Bower|                    106457.0|\n",
      "|Packagist|                    122137.0|\n",
      "|      Elm|                      4655.0|\n",
      "|    Julia|                       540.0|\n",
      "|  SwiftPM|                       177.0|\n",
      "|     Pypi|                     71110.0|\n",
      "|     CPAN|                      2723.0|\n",
      "|   Shards|                        66.0|\n",
      "|       Go|                      5379.0|\n",
      "| Rubygems|                    481616.0|\n",
      "|      Dub|                       203.0|\n",
      "+---------+----------------------------+\n",
      "only showing top 20 rows"
     ]
    }
   ],
   "source": [
    "max_deps.show()"
   ]
  },
  {
   "cell_type": "markdown",
   "metadata": {},
   "source": [
    "Next, use `join` to join data with the above query (we've done this for you)"
   ]
  },
  {
   "cell_type": "code",
   "execution_count": 15,
   "metadata": {},
   "outputs": [
    {
     "data": {
      "application/vnd.jupyter.widget-view+json": {
       "model_id": "",
       "version_major": 2,
       "version_minor": 0
      },
      "text/plain": [
       "FloatProgress(value=0.0, bar_style='info', description='Progress:', layout=Layout(height='25px', width='50%'),…"
      ]
     },
     "metadata": {},
     "output_type": "display_data"
    }
   ],
   "source": [
    "max_deps_info = max_deps = spark.sql(\"\"\"\n",
    "    SELECT data.platform, name, data.`Dependent Repositories Count` FROM data \n",
    "    JOIN (SELECT platform,`Dependent Repositories Count` FROM \n",
    "            (SELECT platform, max(`Dependent Repositories Count`) AS `Dependent Repositories Count` \n",
    "                    FROM data GROUP BY platform) WHERE `Dependent Repositories Count` != 0) AS X \n",
    "    ON X.`Dependent Repositories Count` == data.`Dependent Repositories Count` AND X.platform == data.platform\n",
    "\"\"\") "
   ]
  },
  {
   "cell_type": "markdown",
   "metadata": {},
   "source": [
    "Call `show` after to see the results. Pass a number to `show` so that all the results are shown."
   ]
  },
  {
   "cell_type": "code",
   "execution_count": 16,
   "metadata": {},
   "outputs": [
    {
     "data": {
      "application/vnd.jupyter.widget-view+json": {
       "model_id": "",
       "version_major": 2,
       "version_minor": 0
      },
      "text/plain": [
       "FloatProgress(value=0.0, bar_style='info', description='Progress:', layout=Layout(height='25px', width='50%'),…"
      ]
     },
     "metadata": {},
     "output_type": "display_data"
    },
    {
     "name": "stdout",
     "output_type": "stream",
     "text": [
      "+---------+--------------------+----------------------------+\n",
      "| platform|                name|Dependent Repositories Count|\n",
      "+---------+--------------------+----------------------------+\n",
      "| Rubygems|                rake|                    481616.0|\n",
      "|    NuGet|     Newtonsoft.Json|                     63559.0|\n",
      "|       Go|golang.org/x/net/...|                      5379.0|\n",
      "|      Dub|              vibe-d|                       203.0|\n",
      "|      Elm|       elm-lang/core|                      4655.0|\n",
      "|      Hex|              poison|                      5950.0|\n",
      "|   Shards|               radix|                        66.0|\n",
      "|CocoaPods|        AFNetworking|                     15781.0|\n",
      "|    Bower|              jQuery|                    106457.0|\n",
      "|Packagist|     phpunit/phpunit|                    122137.0|\n",
      "|    Julia|              Compat|                       540.0|\n",
      "|    Cargo|                libc|                      6922.0|\n",
      "|     Pypi|            requests|                     71110.0|\n",
      "| Carthage|        Quick/Nimble|                      1246.0|\n",
      "|      Pub|             browser|                      2972.0|\n",
      "|  Clojars| org.clojure/clojure|                     26779.0|\n",
      "|    Maven|javax.servlet:ser...|                     43397.0|\n",
      "|     CPAN|                perl|                      2723.0|\n",
      "|      NPM|             express|                    380978.0|\n",
      "|   Meteor|              meteor|                        72.0|\n",
      "|     CRAN|            testthat|                      6037.0|\n",
      "|  SwiftPM|github.com/IBM-Sw...|                       177.0|\n",
      "+---------+--------------------+----------------------------+"
     ]
    }
   ],
   "source": [
    "max_deps_info.show(30)"
   ]
  },
  {
   "cell_type": "markdown",
   "metadata": {},
   "source": [
    "### Who is the most proflific owner of packages per package manager?\n",
    "\n",
    "For this next question, we need to consult the second file, which is detailed information about where and who develops each package. Reading in the data will be very similar to as was done above."
   ]
  },
  {
   "cell_type": "code",
   "execution_count": 17,
   "metadata": {},
   "outputs": [
    {
     "data": {
      "application/vnd.jupyter.widget-view+json": {
       "model_id": "",
       "version_major": 2,
       "version_minor": 0
      },
      "text/plain": [
       "FloatProgress(value=0.0, bar_style='info', description='Progress:', layout=Layout(height='25px', width='50%'),…"
      ]
     },
     "metadata": {},
     "output_type": "display_data"
    }
   ],
   "source": [
    "repos_data = spark.read.csv(\"hdfs:///data/repositories-1.0.0-2017-06-15.csv\",header=True, inferSchema=True)"
   ]
  },
  {
   "cell_type": "code",
   "execution_count": 18,
   "metadata": {},
   "outputs": [
    {
     "data": {
      "application/vnd.jupyter.widget-view+json": {
       "model_id": "",
       "version_major": 2,
       "version_minor": 0
      },
      "text/plain": [
       "FloatProgress(value=0.0, bar_style='info', description='Progress:', layout=Layout(height='25px', width='50%'),…"
      ]
     },
     "metadata": {},
     "output_type": "display_data"
    }
   ],
   "source": [
    "repos_data.createTempView(\"repos_data\")"
   ]
  },
  {
   "cell_type": "markdown",
   "metadata": {},
   "source": [
    "To extract the owner into its own column, we are going to use the function `regexp_extract`"
   ]
  },
  {
   "cell_type": "code",
   "execution_count": 19,
   "metadata": {},
   "outputs": [
    {
     "data": {
      "application/vnd.jupyter.widget-view+json": {
       "model_id": "",
       "version_major": 2,
       "version_minor": 0
      },
      "text/plain": [
       "FloatProgress(value=0.0, bar_style='info', description='Progress:', layout=Layout(height='25px', width='50%'),…"
      ]
     },
     "metadata": {},
     "output_type": "display_data"
    }
   ],
   "source": [
    "from pyspark.sql.functions import regexp_extract"
   ]
  },
  {
   "cell_type": "code",
   "execution_count": 20,
   "metadata": {},
   "outputs": [
    {
     "data": {
      "application/vnd.jupyter.widget-view+json": {
       "model_id": "",
       "version_major": 2,
       "version_minor": 0
      },
      "text/plain": [
       "FloatProgress(value=0.0, bar_style='info', description='Progress:', layout=Layout(height='25px', width='50%'),…"
      ]
     },
     "metadata": {},
     "output_type": "display_data"
    }
   ],
   "source": [
    "repos_data = spark.sql(\"\"\"SELECT *,regexp_extract(`Name With Owner`,'(.*)/',0) AS owner\n",
    "                          FROM repos_data \"\"\")"
   ]
  },
  {
   "cell_type": "markdown",
   "metadata": {},
   "source": [
    "Next, use `join` to create a joined DataFrame. The columns to join on are \"ID\" from the subquery above, and \"Repository ID\" from `data`. It will be helpful to use a subquery and the keyword `AS`"
   ]
  },
  {
   "cell_type": "code",
   "execution_count": 21,
   "metadata": {},
   "outputs": [
    {
     "data": {
      "application/vnd.jupyter.widget-view+json": {
       "model_id": "",
       "version_major": 2,
       "version_minor": 0
      },
      "text/plain": [
       "FloatProgress(value=0.0, bar_style='info', description='Progress:', layout=Layout(height='25px', width='50%'),…"
      ]
     },
     "metadata": {},
     "output_type": "display_data"
    }
   ],
   "source": [
    "joined = spark.sql(\"\"\"SELECT data.*, X.* FROM data JOIN (SELECT *,regexp_extract(`Name With Owner`,'(.*)/',0) AS owner \n",
    "                          FROM repos_data) AS X ON X.ID == data.`Repository ID`\"\"\")"
   ]
  },
  {
   "cell_type": "markdown",
   "metadata": {},
   "source": [
    "Put this table back into the SQL catalog by using `createTempView`"
   ]
  },
  {
   "cell_type": "code",
   "execution_count": 22,
   "metadata": {},
   "outputs": [
    {
     "data": {
      "application/vnd.jupyter.widget-view+json": {
       "model_id": "",
       "version_major": 2,
       "version_minor": 0
      },
      "text/plain": [
       "FloatProgress(value=0.0, bar_style='info', description='Progress:', layout=Layout(height='25px', width='50%'),…"
      ]
     },
     "metadata": {},
     "output_type": "display_data"
    }
   ],
   "source": [
    "joined.createTempView(\"joined\")"
   ]
  },
  {
   "cell_type": "markdown",
   "metadata": {},
   "source": [
    "Now that we have the package owner information joined with the package, use `groupby` and `count` to see how many packages each owner has per package manager.\n",
    "\n",
    "The relevant columns are \"Platform\" and \"owner\"\n",
    "\n",
    "Hint: `groupBy` can take more than one column to group on. Use `AS` to give the aggregate function a good name"
   ]
  },
  {
   "cell_type": "code",
   "execution_count": 23,
   "metadata": {},
   "outputs": [
    {
     "data": {
      "application/vnd.jupyter.widget-view+json": {
       "model_id": "",
       "version_major": 2,
       "version_minor": 0
      },
      "text/plain": [
       "FloatProgress(value=0.0, bar_style='info', description='Progress:', layout=Layout(height='25px', width='50%'),…"
      ]
     },
     "metadata": {},
     "output_type": "display_data"
    }
   ],
   "source": [
    "counts = spark.sql(\"SELECT platform, owner, count(*) from joined GROUP BY platform, owner\")"
   ]
  },
  {
   "cell_type": "markdown",
   "metadata": {},
   "source": [
    "Next we need to deterimine the max count per platform. Do this using `groupby` and `max`, using the previous query as a subquery"
   ]
  },
  {
   "cell_type": "code",
   "execution_count": 24,
   "metadata": {},
   "outputs": [
    {
     "data": {
      "application/vnd.jupyter.widget-view+json": {
       "model_id": "",
       "version_major": 2,
       "version_minor": 0
      },
      "text/plain": [
       "FloatProgress(value=0.0, bar_style='info', description='Progress:', layout=Layout(height='25px', width='50%'),…"
      ]
     },
     "metadata": {},
     "output_type": "display_data"
    }
   ],
   "source": [
    "max_count = spark.sql(\"\"\"\n",
    "                        SELECT platform, max(count) FROM\n",
    "                      (SELECT platform, owner, count(*) AS count from joined GROUP BY platform, owner)\n",
    "                      GROUP BY platform\n",
    "                      \"\"\")"
   ]
  },
  {
   "cell_type": "markdown",
   "metadata": {},
   "source": [
    "Like before, we want to remove the name of the function from the column name, so re-write the query above to use `AS`"
   ]
  },
  {
   "cell_type": "code",
   "execution_count": 25,
   "metadata": {},
   "outputs": [
    {
     "data": {
      "application/vnd.jupyter.widget-view+json": {
       "model_id": "",
       "version_major": 2,
       "version_minor": 0
      },
      "text/plain": [
       "FloatProgress(value=0.0, bar_style='info', description='Progress:', layout=Layout(height='25px', width='50%'),…"
      ]
     },
     "metadata": {},
     "output_type": "display_data"
    }
   ],
   "source": [
    "max_count = spark.sql(\"\"\"\n",
    "                        SELECT platform, max(count) AS count FROM\n",
    "                      (SELECT platform, owner, count(*) AS count from joined GROUP BY platform, owner)\n",
    "                      GROUP BY platform\n",
    "                      \"\"\")"
   ]
  },
  {
   "cell_type": "markdown",
   "metadata": {},
   "source": [
    "Now the owner with the most packages per package manager can be found by using `join` on `counts` and `max_count`\n",
    "\n",
    "Call `show` after joining to see the results. "
   ]
  },
  {
   "cell_type": "code",
   "execution_count": 26,
   "metadata": {},
   "outputs": [
    {
     "data": {
      "application/vnd.jupyter.widget-view+json": {
       "model_id": "",
       "version_major": 2,
       "version_minor": 0
      },
      "text/plain": [
       "FloatProgress(value=0.0, bar_style='info', description='Progress:', layout=Layout(height='25px', width='50%'),…"
      ]
     },
     "metadata": {},
     "output_type": "display_data"
    },
    {
     "name": "stdout",
     "output_type": "stream",
     "text": [
      "+---------+-----------------+-----+\n",
      "| platform|            owner|count|\n",
      "+---------+-----------------+-----+\n",
      "|    Cargo|        retep998/|  428|\n",
      "|   Meteor|          rzymek/|  110|\n",
      "|      Hex|  nerves-project/|   35|\n",
      "|    NuGet|             aws/|  360|\n",
      "| Homebrew|          google/|   19|\n",
      "|    Julia|      JuliaStats/|   28|\n",
      "|      Dub|     DerelictOrg/|   25|\n",
      "|     CRAN|        ropensci/|  117|\n",
      "|    Emacs|          syohex/|   45|\n",
      "|   Shards|      ysbaddaden/|    7|\n",
      "|      Elm|   elm-community/|   51|\n",
      "|CocoaPods|       hyperoslo/|   50|\n",
      "|CocoaPods|    nicklockwood/|   50|\n",
      "|  Haxelib|      haxe-react/|   35|\n",
      "|    Maven|        kiegroup/|  979|\n",
      "|      Pub|       dart-lang/|  245|\n",
      "|     Pypi|      collective/|  357|\n",
      "| Rubygems|      jrobertson/|  301|\n",
      "|Packagist|thecodingmachine/|  212|\n",
      "|      Jam|        aureooms/|   56|\n",
      "+---------+-----------------+-----+\n",
      "only showing top 20 rows"
     ]
    }
   ],
   "source": [
    "spark.sql(\"\"\"SELECT A.platform, A.owner, A.count FROM\n",
    "                (SELECT platform, owner, count(*) as count from joined GROUP BY platform, owner) AS A\n",
    "                    JOIN\n",
    "                       ( SELECT platform, max(count) AS count FROM\n",
    "                      (SELECT platform, owner, count(*) AS count from joined GROUP BY platform, owner)\n",
    "                      GROUP BY platform) AS B\n",
    "                      on A.platform = B.platform AND A.count = B.count\n",
    "                      \"\"\").show()"
   ]
  },
  {
   "cell_type": "markdown",
   "metadata": {},
   "source": [
    "### What is the correlation between number of github stars and number of times a package is listed as a dependency?"
   ]
  },
  {
   "cell_type": "markdown",
   "metadata": {},
   "source": [
    "Call `corr` on the table, passing it the correct column names"
   ]
  },
  {
   "cell_type": "code",
   "execution_count": 27,
   "metadata": {},
   "outputs": [
    {
     "data": {
      "application/vnd.jupyter.widget-view+json": {
       "model_id": "",
       "version_major": 2,
       "version_minor": 0
      },
      "text/plain": [
       "FloatProgress(value=0.0, bar_style='info', description='Progress:', layout=Layout(height='25px', width='50%'),…"
      ]
     },
     "metadata": {},
     "output_type": "display_data"
    },
    {
     "name": "stdout",
     "output_type": "stream",
     "text": [
      "+---------------------------------------------------------------+\n",
      "|corr(CAST(Stars Count AS DOUBLE), Dependent Repositories Count)|\n",
      "+---------------------------------------------------------------+\n",
      "|                                            0.06641716677190267|\n",
      "+---------------------------------------------------------------+"
     ]
    }
   ],
   "source": [
    "spark.sql(\"SELECT corr(`Stars Count`, `Dependent Repositories Count`) FROM joined\").show()"
   ]
  },
  {
   "cell_type": "markdown",
   "metadata": {},
   "source": [
    "### Which package names are found in both npm and pypi\n",
    "For the final question, we are going to use set operations.\n",
    "\n",
    "First we need to find the packages in pypi and the packages in NPM\n",
    "\n",
    "Use `WHERE` to find all the elements of the DataFrame whose \"Platform\" is equal to \"Pypi\", and `SELECT` to only return the names"
   ]
  },
  {
   "cell_type": "code",
   "execution_count": 28,
   "metadata": {},
   "outputs": [
    {
     "data": {
      "application/vnd.jupyter.widget-view+json": {
       "model_id": "",
       "version_major": 2,
       "version_minor": 0
      },
      "text/plain": [
       "FloatProgress(value=0.0, bar_style='info', description='Progress:', layout=Layout(height='25px', width='50%'),…"
      ]
     },
     "metadata": {},
     "output_type": "display_data"
    }
   ],
   "source": [
    "pypi = spark.sql(\"SELECT name FROM data WHERE platform = 'Pypi'\")"
   ]
  },
  {
   "cell_type": "markdown",
   "metadata": {},
   "source": [
    "Use `WHERE` to find all the elements of the DataFrame whose \"Platform\" is equal to \"NPM\", and `SELECT` to only return the names"
   ]
  },
  {
   "cell_type": "code",
   "execution_count": 29,
   "metadata": {},
   "outputs": [
    {
     "data": {
      "application/vnd.jupyter.widget-view+json": {
       "model_id": "",
       "version_major": 2,
       "version_minor": 0
      },
      "text/plain": [
       "FloatProgress(value=0.0, bar_style='info', description='Progress:', layout=Layout(height='25px', width='50%'),…"
      ]
     },
     "metadata": {},
     "output_type": "display_data"
    }
   ],
   "source": [
    "npm = spark.sql(\"SELECT name FROM data WHERE platform = 'NPM'\")"
   ]
  },
  {
   "cell_type": "markdown",
   "metadata": {},
   "source": [
    "Use `INTERSECT` to get the names that appear in both"
   ]
  },
  {
   "cell_type": "code",
   "execution_count": 30,
   "metadata": {},
   "outputs": [
    {
     "data": {
      "application/vnd.jupyter.widget-view+json": {
       "model_id": "",
       "version_major": 2,
       "version_minor": 0
      },
      "text/plain": [
       "FloatProgress(value=0.0, bar_style='info', description='Progress:', layout=Layout(height='25px', width='50%'),…"
      ]
     },
     "metadata": {},
     "output_type": "display_data"
    }
   ],
   "source": [
    "intersection = spark.sql(\"SELECT name FROM data WHERE platform = 'Pypi'INTERSECT SELECT name FROM data WHERE platform = 'NPM'\")"
   ]
  },
  {
   "cell_type": "markdown",
   "metadata": {},
   "source": [
    "View the names that appear in both by calling `show`"
   ]
  },
  {
   "cell_type": "code",
   "execution_count": 31,
   "metadata": {},
   "outputs": [
    {
     "data": {
      "application/vnd.jupyter.widget-view+json": {
       "model_id": "",
       "version_major": 2,
       "version_minor": 0
      },
      "text/plain": [
       "FloatProgress(value=0.0, bar_style='info', description='Progress:', layout=Layout(height='25px', width='50%'),…"
      ]
     },
     "metadata": {},
     "output_type": "display_data"
    },
    {
     "name": "stdout",
     "output_type": "stream",
     "text": [
      "+--------------------+\n",
      "|                name|\n",
      "+--------------------+\n",
      "|               anime|\n",
      "|           arguments|\n",
      "|             bitlist|\n",
      "|           bookshelf|\n",
      "|                 bsw|\n",
      "|           carbonate|\n",
      "|                clog|\n",
      "|cloudfront-log-pa...|\n",
      "|            collectd|\n",
      "|               crest|\n",
      "|                 dbt|\n",
      "|                earl|\n",
      "|                elsa|\n",
      "|                foxy|\n",
      "|                 gir|\n",
      "|                guts|\n",
      "|            habanero|\n",
      "|              honcho|\n",
      "|                hope|\n",
      "|                 hud|\n",
      "+--------------------+\n",
      "only showing top 20 rows"
     ]
    }
   ],
   "source": [
    "intersection.show()"
   ]
  },
  {
   "cell_type": "code",
   "execution_count": null,
   "metadata": {},
   "outputs": [],
   "source": []
  }
 ],
 "metadata": {
  "kernelspec": {
   "display_name": "PySpark",
   "language": "",
   "name": "pysparkkernel"
  },
  "language_info": {
   "codemirror_mode": {
    "name": "python",
    "version": 2
   },
   "mimetype": "text/x-python",
   "name": "pyspark",
   "pygments_lexer": "python2"
  }
 },
 "nbformat": 4,
 "nbformat_minor": 2
}
